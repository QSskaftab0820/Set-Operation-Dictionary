{
 "cells": [
  {
   "cell_type": "markdown",
   "id": "8cb3f986-ead3-433a-b7d3-36f7715c79a3",
   "metadata": {},
   "source": [
    "# PYTHON OPERATOR"
   ]
  },
  {
   "cell_type": "markdown",
   "id": "199a74d0-0ed6-46a1-a96a-15ebbf748781",
   "metadata": {},
   "source": [
    "### -- ARTHIMETIC OPERATOR(+,/,-,*,%,**,)"
   ]
  },
  {
   "cell_type": "code",
   "execution_count": 3,
   "id": "b948e4f4-6971-411f-93b2-fe49570f9d7b",
   "metadata": {},
   "outputs": [],
   "source": [
    "x1,y1 = 6,12"
   ]
  },
  {
   "cell_type": "code",
   "execution_count": 4,
   "id": "c9a3b10f-286a-4ff8-8ec3-bf91de185e56",
   "metadata": {},
   "outputs": [
    {
     "data": {
      "text/plain": [
       "18"
      ]
     },
     "execution_count": 4,
     "metadata": {},
     "output_type": "execute_result"
    }
   ],
   "source": [
    "x1+y1"
   ]
  },
  {
   "cell_type": "code",
   "execution_count": 5,
   "id": "d6ab90f8-f43f-4c7c-b205-725f72b39556",
   "metadata": {},
   "outputs": [
    {
     "data": {
      "text/plain": [
       "-6"
      ]
     },
     "execution_count": 5,
     "metadata": {},
     "output_type": "execute_result"
    }
   ],
   "source": [
    "x1-y1"
   ]
  },
  {
   "cell_type": "code",
   "execution_count": 6,
   "id": "31e892d9-e07c-4269-a32a-ba5330e676b1",
   "metadata": {},
   "outputs": [
    {
     "data": {
      "text/plain": [
       "72"
      ]
     },
     "execution_count": 6,
     "metadata": {},
     "output_type": "execute_result"
    }
   ],
   "source": [
    "x1*y1"
   ]
  },
  {
   "cell_type": "code",
   "execution_count": 7,
   "id": "b2f9d818-e037-47b0-aacf-740120ca8d33",
   "metadata": {},
   "outputs": [
    {
     "data": {
      "text/plain": [
       "0.5"
      ]
     },
     "execution_count": 7,
     "metadata": {},
     "output_type": "execute_result"
    }
   ],
   "source": [
    "x1/y1"
   ]
  },
  {
   "cell_type": "code",
   "execution_count": 8,
   "id": "6f71ab26-2ab4-4840-b03e-4d215f7508c8",
   "metadata": {},
   "outputs": [
    {
     "data": {
      "text/plain": [
       "0"
      ]
     },
     "execution_count": 8,
     "metadata": {},
     "output_type": "execute_result"
    }
   ],
   "source": [
    "x1//y1"
   ]
  },
  {
   "cell_type": "code",
   "execution_count": 9,
   "id": "502bc404-5d63-4b28-8392-e12ad13bd2cf",
   "metadata": {},
   "outputs": [
    {
     "data": {
      "text/plain": [
       "2176782336"
      ]
     },
     "execution_count": 9,
     "metadata": {},
     "output_type": "execute_result"
    }
   ],
   "source": [
    "x1**y1"
   ]
  },
  {
   "cell_type": "code",
   "execution_count": 10,
   "id": "9efcecdb-747e-45e6-91b4-535538661513",
   "metadata": {},
   "outputs": [
    {
     "data": {
      "text/plain": [
       "6"
      ]
     },
     "execution_count": 10,
     "metadata": {},
     "output_type": "execute_result"
    }
   ],
   "source": [
    "x1%y1"
   ]
  },
  {
   "cell_type": "code",
   "execution_count": 11,
   "id": "4cc3bccb-4adc-477c-9e62-43130bd2674e",
   "metadata": {},
   "outputs": [
    {
     "data": {
      "text/plain": [
       "(6, 12)"
      ]
     },
     "execution_count": 11,
     "metadata": {},
     "output_type": "execute_result"
    }
   ],
   "source": [
    "x1,y1"
   ]
  },
  {
   "cell_type": "markdown",
   "id": "9836f702-ade0-4c6b-82b6-b8e23219fbb1",
   "metadata": {},
   "source": [
    "## -- ASSIGNMENT OPERATOR ( +=,-=,*=,/=,)"
   ]
  },
  {
   "cell_type": "code",
   "execution_count": 13,
   "id": "b6ad9c82-6f48-46a1-b1e0-9282eed2a40f",
   "metadata": {},
   "outputs": [
    {
     "data": {
      "text/plain": [
       "2"
      ]
     },
     "execution_count": 13,
     "metadata": {},
     "output_type": "execute_result"
    }
   ],
   "source": [
    "x=2\n",
    "x"
   ]
  },
  {
   "cell_type": "code",
   "execution_count": 14,
   "id": "35cb3d40-73ad-4ef5-8b3a-f72e12362701",
   "metadata": {},
   "outputs": [
    {
     "data": {
      "text/plain": [
       "4"
      ]
     },
     "execution_count": 14,
     "metadata": {},
     "output_type": "execute_result"
    }
   ],
   "source": [
    "x+=2\n",
    "x"
   ]
  },
  {
   "cell_type": "code",
   "execution_count": 15,
   "id": "d68c9043-cea9-4644-b09a-d5d9342f4077",
   "metadata": {},
   "outputs": [
    {
     "data": {
      "text/plain": [
       "2"
      ]
     },
     "execution_count": 15,
     "metadata": {},
     "output_type": "execute_result"
    }
   ],
   "source": [
    "x-=2\n",
    "x"
   ]
  },
  {
   "cell_type": "code",
   "execution_count": 16,
   "id": "1f1b762f-a65a-46fe-a9ae-a328f214ef0d",
   "metadata": {},
   "outputs": [
    {
     "data": {
      "text/plain": [
       "4"
      ]
     },
     "execution_count": 16,
     "metadata": {},
     "output_type": "execute_result"
    }
   ],
   "source": [
    "x*=2\n",
    "x"
   ]
  },
  {
   "cell_type": "code",
   "execution_count": 17,
   "id": "4f310817-d246-4d10-bbd3-f10c6f9fb354",
   "metadata": {},
   "outputs": [
    {
     "data": {
      "text/plain": [
       "2.0"
      ]
     },
     "execution_count": 17,
     "metadata": {},
     "output_type": "execute_result"
    }
   ],
   "source": [
    "x/=2\n",
    "x"
   ]
  },
  {
   "cell_type": "code",
   "execution_count": 18,
   "id": "8174ac50-309e-426f-8b5a-cc5495085a20",
   "metadata": {},
   "outputs": [
    {
     "data": {
      "text/plain": [
       "1.0"
      ]
     },
     "execution_count": 18,
     "metadata": {},
     "output_type": "execute_result"
    }
   ],
   "source": [
    "x//=2\n",
    "x"
   ]
  },
  {
   "cell_type": "markdown",
   "id": "9704f74a-47b2-4c17-8ddc-d5318befbc40",
   "metadata": {},
   "source": [
    "## -- UNARY OPERATOR--\n",
    "negative (-)"
   ]
  },
  {
   "cell_type": "code",
   "execution_count": 20,
   "id": "c1753156-38ed-447f-9675-881a94394a19",
   "metadata": {},
   "outputs": [
    {
     "data": {
      "text/plain": [
       "7"
      ]
     },
     "execution_count": 20,
     "metadata": {},
     "output_type": "execute_result"
    }
   ],
   "source": [
    "n=7\n",
    "n"
   ]
  },
  {
   "cell_type": "code",
   "execution_count": 21,
   "id": "97ee1118-cbd2-436f-8d24-de7292f57b50",
   "metadata": {},
   "outputs": [
    {
     "data": {
      "text/plain": [
       "-7"
      ]
     },
     "execution_count": 21,
     "metadata": {},
     "output_type": "execute_result"
    }
   ],
   "source": [
    "-n"
   ]
  },
  {
   "cell_type": "code",
   "execution_count": 22,
   "id": "2ae5cbca-d877-4aab-863d-5b94fb58b83c",
   "metadata": {},
   "outputs": [
    {
     "data": {
      "text/plain": [
       "-7"
      ]
     },
     "execution_count": 22,
     "metadata": {},
     "output_type": "execute_result"
    }
   ],
   "source": [
    "m=-(n)\n",
    "m"
   ]
  },
  {
   "cell_type": "code",
   "execution_count": 23,
   "id": "32eb1dfe-2f6d-46de-9766-0856ed1abd0d",
   "metadata": {},
   "outputs": [
    {
     "data": {
      "text/plain": [
       "2"
      ]
     },
     "execution_count": 23,
     "metadata": {},
     "output_type": "execute_result"
    }
   ],
   "source": [
    "R=2\n",
    "R"
   ]
  },
  {
   "cell_type": "code",
   "execution_count": 24,
   "id": "3e13a0f5-4c15-4acb-8258-34179befbb9c",
   "metadata": {},
   "outputs": [
    {
     "data": {
      "text/plain": [
       "-2"
      ]
     },
     "execution_count": 24,
     "metadata": {},
     "output_type": "execute_result"
    }
   ],
   "source": [
    "K=-(R)\n",
    "K"
   ]
  },
  {
   "cell_type": "code",
   "execution_count": 25,
   "id": "fb729634-055c-4452-b077-24a23234c9c2",
   "metadata": {},
   "outputs": [
    {
     "data": {
      "text/plain": [
       "2"
      ]
     },
     "execution_count": 25,
     "metadata": {},
     "output_type": "execute_result"
    }
   ],
   "source": [
    "R"
   ]
  },
  {
   "cell_type": "code",
   "execution_count": 26,
   "id": "583f087e-fb2c-4f31-a56f-6114a0626a53",
   "metadata": {},
   "outputs": [
    {
     "data": {
      "text/plain": [
       "-2"
      ]
     },
     "execution_count": 26,
     "metadata": {},
     "output_type": "execute_result"
    }
   ],
   "source": [
    "-R"
   ]
  },
  {
   "cell_type": "markdown",
   "id": "65c786cf-15b4-49f4-b2c9-ebab8ba47c20",
   "metadata": {},
   "source": [
    "### -- RELATIONAL OPERATOR( >,<,>=,<=,==,!=) \n"
   ]
  },
  {
   "cell_type": "code",
   "execution_count": 28,
   "id": "6f731e28-8c90-486f-8364-fb9b65937584",
   "metadata": {},
   "outputs": [],
   "source": [
    "a = 4\n",
    "b =3"
   ]
  },
  {
   "cell_type": "code",
   "execution_count": 29,
   "id": "f933b807-b122-45f1-a5e4-3f2846de1626",
   "metadata": {},
   "outputs": [
    {
     "data": {
      "text/plain": [
       "True"
      ]
     },
     "execution_count": 29,
     "metadata": {},
     "output_type": "execute_result"
    }
   ],
   "source": [
    "a > b"
   ]
  },
  {
   "cell_type": "code",
   "execution_count": 30,
   "id": "a468eabe-e632-4573-97d6-7ef9cf4a65f2",
   "metadata": {},
   "outputs": [
    {
     "data": {
      "text/plain": [
       "True"
      ]
     },
     "execution_count": 30,
     "metadata": {},
     "output_type": "execute_result"
    }
   ],
   "source": [
    "b<a"
   ]
  },
  {
   "cell_type": "code",
   "execution_count": 31,
   "id": "7a36cee7-dc30-4243-a10c-b7e0b8c179b0",
   "metadata": {},
   "outputs": [
    {
     "data": {
      "text/plain": [
       "True"
      ]
     },
     "execution_count": 31,
     "metadata": {},
     "output_type": "execute_result"
    }
   ],
   "source": [
    "b!=a"
   ]
  },
  {
   "cell_type": "code",
   "execution_count": 32,
   "id": "d9fe896e-510b-4433-8759-87b9689131c7",
   "metadata": {},
   "outputs": [
    {
     "data": {
      "text/plain": [
       "False"
      ]
     },
     "execution_count": 32,
     "metadata": {},
     "output_type": "execute_result"
    }
   ],
   "source": [
    "a==b"
   ]
  },
  {
   "cell_type": "code",
   "execution_count": 33,
   "id": "fa883627-f79c-405e-8ac7-680054f726a3",
   "metadata": {},
   "outputs": [],
   "source": [
    "c=4"
   ]
  },
  {
   "cell_type": "code",
   "execution_count": 34,
   "id": "56d32e9b-c2ad-411b-8ea1-a27bad8c0d17",
   "metadata": {},
   "outputs": [
    {
     "data": {
      "text/plain": [
       "True"
      ]
     },
     "execution_count": 34,
     "metadata": {},
     "output_type": "execute_result"
    }
   ],
   "source": [
    "a==c"
   ]
  },
  {
   "cell_type": "code",
   "execution_count": 35,
   "id": "a26b229f-98bb-4dbc-922b-9a33a6ec50e9",
   "metadata": {},
   "outputs": [
    {
     "name": "stdout",
     "output_type": "stream",
     "text": [
      "4\n",
      "3\n",
      "4\n"
     ]
    }
   ],
   "source": [
    "print(a)\n",
    "print(b)\n",
    "print(c)"
   ]
  },
  {
   "cell_type": "code",
   "execution_count": 36,
   "id": "34b11246-48f8-47d5-8216-111ff4ef33fd",
   "metadata": {},
   "outputs": [
    {
     "data": {
      "text/plain": [
       "True"
      ]
     },
     "execution_count": 36,
     "metadata": {},
     "output_type": "execute_result"
    }
   ],
   "source": [
    "c>=a #if any one of it relational operator is correct than the output will come \"True\""
   ]
  },
  {
   "cell_type": "code",
   "execution_count": 37,
   "id": "5b2de224-821f-4e6c-bfcf-15d55e1cd8fd",
   "metadata": {},
   "outputs": [
    {
     "data": {
      "text/plain": [
       "True"
      ]
     },
     "execution_count": 37,
     "metadata": {},
     "output_type": "execute_result"
    }
   ],
   "source": [
    "b<=a"
   ]
  },
  {
   "cell_type": "code",
   "execution_count": 38,
   "id": "a8c7a91d-df50-4dfd-9f7a-f6647ded69d3",
   "metadata": {},
   "outputs": [
    {
     "ename": "SyntaxError",
     "evalue": "invalid syntax (2877880343.py, line 1)",
     "output_type": "error",
     "traceback": [
      "\u001b[1;36m  Cell \u001b[1;32mIn[38], line 1\u001b[1;36m\u001b[0m\n\u001b[1;33m    a=>c#cause \"=\"sign come last or after <,>,!\u001b[0m\n\u001b[1;37m      ^\u001b[0m\n\u001b[1;31mSyntaxError\u001b[0m\u001b[1;31m:\u001b[0m invalid syntax\n"
     ]
    }
   ],
   "source": [
    "a=>c#cause \"=\"sign come last or after <,>,!"
   ]
  },
  {
   "cell_type": "code",
   "execution_count": 642,
   "id": "eeaa1652-613f-4896-b1f3-07d01ec6e4a1",
   "metadata": {},
   "outputs": [
    {
     "data": {
      "text/plain": [
       "False"
      ]
     },
     "execution_count": 642,
     "metadata": {},
     "output_type": "execute_result"
    }
   ],
   "source": [
    "a>=b"
   ]
  },
  {
   "attachments": {
    "16be4f15-bd15-487f-bb76-ccd8472f2760.png": {
     "image/png": "[encoded data removed]"
    }
   },
   "cell_type": "markdown",
   "id": "e4c731c9-3588-4f4c-9dc8-573e39091b64",
   "metadata": {},
   "source": [
    "![image.png](attachment:16be4f15-bd15-487f-bb76-ccd8472f2760.png)"
   ]
  },
  {
   "cell_type": "markdown",
   "id": "8a4ae962-0cde-434a-987b-5f5098d479d3",
   "metadata": {},
   "source": [
    "## AND"
   ]
  },
  {
   "cell_type": "code",
   "execution_count": 646,
   "id": "3db456f0-aced-453e-b876-25d0fa9cd455",
   "metadata": {},
   "outputs": [],
   "source": [
    "a=4\n",
    "b=6"
   ]
  },
  {
   "cell_type": "code",
   "execution_count": 648,
   "id": "d8d0b850-409c-4208-8bfe-63af142c38d8",
   "metadata": {},
   "outputs": [
    {
     "data": {
      "text/plain": [
       "True"
      ]
     },
     "execution_count": 648,
     "metadata": {},
     "output_type": "execute_result"
    }
   ],
   "source": [
    "a < 8 and b<9 #Both should be True,then only the output come True."
   ]
  },
  {
   "cell_type": "code",
   "execution_count": 650,
   "id": "ab82cbe8-dfba-4709-986b-22e9798d2df9",
   "metadata": {},
   "outputs": [
    {
     "data": {
      "text/plain": [
       "False"
      ]
     },
     "execution_count": 650,
     "metadata": {},
     "output_type": "execute_result"
    }
   ],
   "source": [
    "a>5 and b>7"
   ]
  },
  {
   "cell_type": "markdown",
   "id": "ea26520a-84a3-4599-bc13-00eb03511482",
   "metadata": {},
   "source": [
    "### OR"
   ]
  },
  {
   "cell_type": "code",
   "execution_count": 653,
   "id": "a5615cfa-fdc8-4139-8e89-9ddebd4de993",
   "metadata": {},
   "outputs": [
    {
     "data": {
      "text/plain": [
       "True"
      ]
     },
     "execution_count": 653,
     "metadata": {},
     "output_type": "execute_result"
    }
   ],
   "source": [
    "a>5 or b<7 #any one of them should be true, then only the output will come true."
   ]
  },
  {
   "cell_type": "code",
   "execution_count": 655,
   "id": "8e19df6e-5112-4258-af5b-44e228912072",
   "metadata": {},
   "outputs": [
    {
     "data": {
      "text/plain": [
       "False"
      ]
     },
     "execution_count": 655,
     "metadata": {},
     "output_type": "execute_result"
    }
   ],
   "source": [
    "a>7 or b>7"
   ]
  },
  {
   "cell_type": "code",
   "execution_count": 657,
   "id": "250d3bea-55ca-4246-abac-08522dd37a26",
   "metadata": {},
   "outputs": [
    {
     "name": "stdout",
     "output_type": "stream",
     "text": [
      "4\n",
      "6\n"
     ]
    }
   ],
   "source": [
    "print(a)\n",
    "print(b)"
   ]
  },
  {
   "cell_type": "code",
   "execution_count": 659,
   "id": "c13d262e-9590-4690-a7b4-2c8dbb2b5303",
   "metadata": {},
   "outputs": [
    {
     "data": {
      "text/plain": [
       "True"
      ]
     },
     "execution_count": 659,
     "metadata": {},
     "output_type": "execute_result"
    }
   ],
   "source": [
    "a<7 or b<8"
   ]
  },
  {
   "cell_type": "markdown",
   "id": "b99492f2-efa7-4da2-8b84-a876d4952352",
   "metadata": {},
   "source": [
    "## NOT"
   ]
  },
  {
   "cell_type": "code",
   "execution_count": 662,
   "id": "adbbde9e-0e7d-4ecc-b1d3-7842651abc35",
   "metadata": {},
   "outputs": [
    {
     "data": {
      "text/plain": [
       "False"
      ]
     },
     "execution_count": 662,
     "metadata": {},
     "output_type": "execute_result"
    }
   ],
   "source": [
    "x= False\n",
    "x"
   ]
  },
  {
   "cell_type": "code",
   "execution_count": 664,
   "id": "3df25b7c-022f-41ff-aa8a-65724d666044",
   "metadata": {},
   "outputs": [
    {
     "data": {
      "text/plain": [
       "True"
      ]
     },
     "execution_count": 664,
     "metadata": {},
     "output_type": "execute_result"
    }
   ],
   "source": [
    "not x"
   ]
  },
  {
   "cell_type": "code",
   "execution_count": 666,
   "id": "45466c3d-88ac-42a3-90f4-29c75578c7e0",
   "metadata": {},
   "outputs": [
    {
     "data": {
      "text/plain": [
       "True"
      ]
     },
     "execution_count": 666,
     "metadata": {},
     "output_type": "execute_result"
    }
   ],
   "source": [
    "y =True\n",
    "y"
   ]
  },
  {
   "cell_type": "code",
   "execution_count": 668,
   "id": "b048c831-aad0-4000-b19f-dcc9ede64db3",
   "metadata": {},
   "outputs": [
    {
     "data": {
      "text/plain": [
       "False"
      ]
     },
     "execution_count": 668,
     "metadata": {},
     "output_type": "execute_result"
    }
   ],
   "source": [
    "not y"
   ]
  },
  {
   "cell_type": "code",
   "execution_count": 670,
   "id": "cb8a12f5-aa19-47ed-8ac9-aafc293d6677",
   "metadata": {},
   "outputs": [],
   "source": [
    "x=False\n",
    "y=True"
   ]
  },
  {
   "cell_type": "code",
   "execution_count": 672,
   "id": "8401572d-7c89-4eea-ab67-4f036931a061",
   "metadata": {},
   "outputs": [
    {
     "name": "stdout",
     "output_type": "stream",
     "text": [
      "True\n",
      "False\n"
     ]
    }
   ],
   "source": [
    "print(not x)\n",
    "print(not y)"
   ]
  },
  {
   "cell_type": "markdown",
   "id": "2b81e093-6332-4917-9e15-2f03550d65c0",
   "metadata": {},
   "source": [
    "## -- DATA STRUCTURE--\n",
    "Data Structure Will Define The Value More Than One\n"
   ]
  },
  {
   "cell_type": "markdown",
   "id": "55184cbd-5ae2-4f18-a7f0-2bc05cad88b6",
   "metadata": {},
   "source": [
    ". list\n",
    ". tuple\n",
    ". set\n",
    ". dict(dictionary)"
   ]
  },
  {
   "cell_type": "markdown",
   "id": "7b3c98a1-b992-49cd-986d-0f06992b23a8",
   "metadata": {},
   "source": [
    "### LIST (start with box bracket)"
   ]
  },
  {
   "cell_type": "code",
   "execution_count": 677,
   "id": "41e5d4d2-7d09-4413-bc98-c21305c290dc",
   "metadata": {},
   "outputs": [
    {
     "data": {
      "text/plain": [
       "[]"
      ]
     },
     "execution_count": 677,
     "metadata": {},
     "output_type": "execute_result"
    }
   ],
   "source": [
    "l = []#Empty List\n",
    "l"
   ]
  },
  {
   "cell_type": "code",
   "execution_count": 679,
   "id": "ccbf86a0-67f1-426a-81ce-8ddeb231a947",
   "metadata": {},
   "outputs": [
    {
     "data": {
      "text/plain": [
       "0"
      ]
     },
     "execution_count": 679,
     "metadata": {},
     "output_type": "execute_result"
    }
   ],
   "source": [
    "len(l)"
   ]
  },
  {
   "cell_type": "code",
   "execution_count": 681,
   "id": "0b2d1751-0cb7-47db-8a53-71cbdeae3e07",
   "metadata": {},
   "outputs": [],
   "source": [
    "l.append(6)#at one time, only one value or element can add or append.\n"
   ]
  },
  {
   "cell_type": "code",
   "execution_count": 683,
   "id": "4f8e26eb-4509-44d7-86d0-1da35e3e45a1",
   "metadata": {},
   "outputs": [
    {
     "data": {
      "text/plain": [
       "[]"
      ]
     },
     "execution_count": 683,
     "metadata": {},
     "output_type": "execute_result"
    }
   ],
   "source": [
    "l=[]\n",
    "l"
   ]
  },
  {
   "cell_type": "code",
   "execution_count": 685,
   "id": "44479d8e-d89a-408b-93b9-32322b117dee",
   "metadata": {},
   "outputs": [],
   "source": [
    "l.append(10)#at one time, only one value or element can add or append.\n",
    "            #Add The Element At The Last"
   ]
  },
  {
   "cell_type": "code",
   "execution_count": 687,
   "id": "e4978283-746f-4e79-83f2-7234e8b5134a",
   "metadata": {},
   "outputs": [
    {
     "data": {
      "text/plain": [
       "[10]"
      ]
     },
     "execution_count": 687,
     "metadata": {},
     "output_type": "execute_result"
    }
   ],
   "source": [
    "l"
   ]
  },
  {
   "cell_type": "code",
   "execution_count": 689,
   "id": "3215cc69-4b67-45cf-84ee-7637d63f4e37",
   "metadata": {},
   "outputs": [],
   "source": [
    "l.append(10)\n",
    "l.append(20)\n",
    "l.append(30)\n",
    "l.append(40)\n"
   ]
  },
  {
   "cell_type": "code",
   "execution_count": 691,
   "id": "7cfa9f89-c664-42d1-a048-247f17f2b4c2",
   "metadata": {},
   "outputs": [
    {
     "data": {
      "text/plain": [
       "[10, 10, 20, 30, 40]"
      ]
     },
     "execution_count": 691,
     "metadata": {},
     "output_type": "execute_result"
    }
   ],
   "source": [
    "l"
   ]
  },
  {
   "cell_type": "code",
   "execution_count": 693,
   "id": "9c859594-e174-425b-98da-661305a0afc4",
   "metadata": {},
   "outputs": [
    {
     "data": {
      "text/plain": [
       "5"
      ]
     },
     "execution_count": 693,
     "metadata": {},
     "output_type": "execute_result"
    }
   ],
   "source": [
    "len(l)"
   ]
  },
  {
   "cell_type": "code",
   "execution_count": 695,
   "id": "33d22c29-8792-4acf-bbfe-7527d8ef853f",
   "metadata": {},
   "outputs": [
    {
     "data": {
      "text/plain": [
       "2035507587072"
      ]
     },
     "execution_count": 695,
     "metadata": {},
     "output_type": "execute_result"
    }
   ],
   "source": [
    "id(l)"
   ]
  },
  {
   "cell_type": "code",
   "execution_count": 697,
   "id": "1617660a-2ecd-448a-a96c-96890f54e277",
   "metadata": {},
   "outputs": [
    {
     "name": "stdout",
     "output_type": "stream",
     "text": [
      "<class 'list'>\n"
     ]
    }
   ],
   "source": [
    "print(type(l))"
   ]
  },
  {
   "cell_type": "code",
   "execution_count": 699,
   "id": "7463049e-4f7b-4c11-8ef7-019f617ff1cc",
   "metadata": {},
   "outputs": [
    {
     "name": "stdout",
     "output_type": "stream",
     "text": [
      "<class 'bool'>\n"
     ]
    },
    {
     "data": {
      "text/plain": [
       "bool"
      ]
     },
     "execution_count": 699,
     "metadata": {},
     "output_type": "execute_result"
    }
   ],
   "source": [
    "a=True\n",
    "print(type(a))\n",
    "type(a)"
   ]
  },
  {
   "cell_type": "code",
   "execution_count": 701,
   "id": "df5f6db1-fdff-4b08-9e7f-af07c8439685",
   "metadata": {},
   "outputs": [
    {
     "data": {
      "text/plain": [
       "['False',\n",
       " 'None',\n",
       " 'True',\n",
       " 'and',\n",
       " 'as',\n",
       " 'assert',\n",
       " 'async',\n",
       " 'await',\n",
       " 'break',\n",
       " 'class',\n",
       " 'continue',\n",
       " 'def',\n",
       " 'del',\n",
       " 'elif',\n",
       " 'else',\n",
       " 'except',\n",
       " 'finally',\n",
       " 'for',\n",
       " 'from',\n",
       " 'global',\n",
       " 'if',\n",
       " 'import',\n",
       " 'in',\n",
       " 'is',\n",
       " 'lambda',\n",
       " 'nonlocal',\n",
       " 'not',\n",
       " 'or',\n",
       " 'pass',\n",
       " 'raise',\n",
       " 'return',\n",
       " 'try',\n",
       " 'while',\n",
       " 'with',\n",
       " 'yield']"
      ]
     },
     "execution_count": 701,
     "metadata": {},
     "output_type": "execute_result"
    }
   ],
   "source": [
    "import keyword\n",
    "keyword.kwlist"
   ]
  },
  {
   "cell_type": "code",
   "execution_count": 703,
   "id": "09be7c28-84d8-4afc-b4ff-a47ede68bac4",
   "metadata": {},
   "outputs": [
    {
     "data": {
      "text/plain": [
       "35"
      ]
     },
     "execution_count": 703,
     "metadata": {},
     "output_type": "execute_result"
    }
   ],
   "source": [
    "len(keyword.kwlist)"
   ]
  },
  {
   "cell_type": "code",
   "execution_count": 705,
   "id": "97610f46-e913-4697-81b3-68093adb9837",
   "metadata": {},
   "outputs": [
    {
     "data": {
      "text/plain": [
       "[10, 10, 20, 30, 40]"
      ]
     },
     "execution_count": 705,
     "metadata": {},
     "output_type": "execute_result"
    }
   ],
   "source": [
    "l"
   ]
  },
  {
   "cell_type": "code",
   "execution_count": 707,
   "id": "4c20cbd5-aa02-45fc-924a-f480e4e8829b",
   "metadata": {},
   "outputs": [
    {
     "data": {
      "text/plain": [
       "[10, 10, 20, 30, 40]"
      ]
     },
     "execution_count": 707,
     "metadata": {},
     "output_type": "execute_result"
    }
   ],
   "source": [
    "l[:]#By default select Entire Elements"
   ]
  },
  {
   "cell_type": "code",
   "execution_count": 709,
   "id": "9bf55efb-a125-47a8-b3d2-b27d5734a85f",
   "metadata": {},
   "outputs": [
    {
     "data": {
      "text/plain": [
       "10"
      ]
     },
     "execution_count": 709,
     "metadata": {},
     "output_type": "execute_result"
    }
   ],
   "source": [
    "l[0]"
   ]
  },
  {
   "cell_type": "code",
   "execution_count": 711,
   "id": "e4193f02-340d-4045-90f7-aa1644edec30",
   "metadata": {},
   "outputs": [
    {
     "data": {
      "text/plain": [
       "40"
      ]
     },
     "execution_count": 711,
     "metadata": {},
     "output_type": "execute_result"
    }
   ],
   "source": [
    "l[4]"
   ]
  },
  {
   "cell_type": "code",
   "execution_count": 713,
   "id": "fce25667-76ec-4510-a240-bdd2367ae480",
   "metadata": {},
   "outputs": [
    {
     "data": {
      "text/plain": [
       "10"
      ]
     },
     "execution_count": 713,
     "metadata": {},
     "output_type": "execute_result"
    }
   ],
   "source": [
    "l[-4]"
   ]
  },
  {
   "cell_type": "code",
   "execution_count": 715,
   "id": "dfc808ae-c1e4-4974-b35d-342ff700b3a4",
   "metadata": {},
   "outputs": [
    {
     "data": {
      "text/plain": [
       "30"
      ]
     },
     "execution_count": 715,
     "metadata": {},
     "output_type": "execute_result"
    }
   ],
   "source": [
    "l[-2]"
   ]
  },
  {
   "cell_type": "code",
   "execution_count": 717,
   "id": "36f643fa-a008-437e-a0f4-9b53fb139f6a",
   "metadata": {},
   "outputs": [
    {
     "data": {
      "text/plain": [
       "[10, 10, 20, 30, 40]"
      ]
     },
     "execution_count": 717,
     "metadata": {},
     "output_type": "execute_result"
    }
   ],
   "source": [
    "l"
   ]
  },
  {
   "cell_type": "code",
   "execution_count": 719,
   "id": "2ae2735e-7dc1-42ab-8324-d0d27fd3086e",
   "metadata": {},
   "outputs": [],
   "source": [
    "l1=l.copy()#Copy 1 list to another list\n"
   ]
  },
  {
   "cell_type": "code",
   "execution_count": 721,
   "id": "594508cc-7e3a-46fa-94ef-48613aacf3ed",
   "metadata": {},
   "outputs": [
    {
     "data": {
      "text/plain": [
       "[10, 10, 20, 30, 40]"
      ]
     },
     "execution_count": 721,
     "metadata": {},
     "output_type": "execute_result"
    }
   ],
   "source": [
    "l1"
   ]
  },
  {
   "cell_type": "code",
   "execution_count": 723,
   "id": "e59e5169-f068-47cd-a8c4-ebf4bcb9cf48",
   "metadata": {},
   "outputs": [
    {
     "name": "stdout",
     "output_type": "stream",
     "text": [
      "5\n",
      "5\n"
     ]
    }
   ],
   "source": [
    "print(len(l))\n",
    "print(len(l1))"
   ]
  },
  {
   "cell_type": "code",
   "execution_count": 725,
   "id": "89c75a45-cc6e-48e6-b2a9-758b622ce086",
   "metadata": {},
   "outputs": [
    {
     "data": {
      "text/plain": [
       "[10, 10, 20, 30, 40]"
      ]
     },
     "execution_count": 725,
     "metadata": {},
     "output_type": "execute_result"
    }
   ],
   "source": [
    "l1"
   ]
  },
  {
   "cell_type": "code",
   "execution_count": 727,
   "id": "026dc14d-fad5-417b-816f-0bcac2b4580d",
   "metadata": {},
   "outputs": [],
   "source": [
    "l1.append(2.3)\n",
    "l1.append(True)\n",
    "l1.append(1+2j)"
   ]
  },
  {
   "cell_type": "code",
   "execution_count": 729,
   "id": "d39d9199-7158-417b-9fed-c8699c6515f1",
   "metadata": {},
   "outputs": [
    {
     "data": {
      "text/plain": [
       "[10, 10, 20, 30, 40, 2.3, True, (1+2j)]"
      ]
     },
     "execution_count": 729,
     "metadata": {},
     "output_type": "execute_result"
    }
   ],
   "source": [
    "l1"
   ]
  },
  {
   "cell_type": "code",
   "execution_count": 731,
   "id": "592463cb-d0ca-4602-aaec-eba4cb7cf6b3",
   "metadata": {},
   "outputs": [
    {
     "data": {
      "text/plain": [
       "[10, 10, 20, 30, 40, 2.3, True, (1+2j), 50]"
      ]
     },
     "execution_count": 731,
     "metadata": {},
     "output_type": "execute_result"
    }
   ],
   "source": [
    "l1.append(50)\n",
    "l1"
   ]
  },
  {
   "cell_type": "code",
   "execution_count": 733,
   "id": "0f481c3a-49d9-498a-8f91-27ca6cebf244",
   "metadata": {},
   "outputs": [
    {
     "data": {
      "text/plain": [
       "[10, 10, 20, 30, 40]"
      ]
     },
     "execution_count": 733,
     "metadata": {},
     "output_type": "execute_result"
    }
   ],
   "source": [
    "l"
   ]
  },
  {
   "cell_type": "code",
   "execution_count": 735,
   "id": "0cfe7098-e2ae-40a8-a68c-320d15c73908",
   "metadata": {},
   "outputs": [
    {
     "data": {
      "text/plain": [
       "2"
      ]
     },
     "execution_count": 735,
     "metadata": {},
     "output_type": "execute_result"
    }
   ],
   "source": [
    "l1.count(10)#Give Count of the element."
   ]
  },
  {
   "cell_type": "code",
   "execution_count": 737,
   "id": "15729e3c-6661-4207-aba4-ce88bb76c4b0",
   "metadata": {},
   "outputs": [
    {
     "data": {
      "text/plain": [
       "1"
      ]
     },
     "execution_count": 737,
     "metadata": {},
     "output_type": "execute_result"
    }
   ],
   "source": [
    "l.count(20)"
   ]
  },
  {
   "cell_type": "code",
   "execution_count": 739,
   "id": "9f8dea2f-7d49-4d79-b85e-a81da94e09d4",
   "metadata": {},
   "outputs": [
    {
     "data": {
      "text/plain": [
       "0"
      ]
     },
     "execution_count": 739,
     "metadata": {},
     "output_type": "execute_result"
    }
   ],
   "source": [
    "l1.count(100)"
   ]
  },
  {
   "cell_type": "code",
   "execution_count": 741,
   "id": "570a656a-65a2-49db-a56f-31b8c61779fd",
   "metadata": {},
   "outputs": [
    {
     "data": {
      "text/plain": [
       "[10, 10, 20, 30, 40]"
      ]
     },
     "execution_count": 741,
     "metadata": {},
     "output_type": "execute_result"
    }
   ],
   "source": [
    "l"
   ]
  },
  {
   "cell_type": "code",
   "execution_count": 743,
   "id": "11bd924a-7fb0-4808-beb5-0e671cda0fad",
   "metadata": {},
   "outputs": [
    {
     "data": {
      "text/plain": [
       "[10, 10, 20, 30, 40, 2.3, True, (1+2j), 50]"
      ]
     },
     "execution_count": 743,
     "metadata": {},
     "output_type": "execute_result"
    }
   ],
   "source": [
    "l1"
   ]
  },
  {
   "cell_type": "code",
   "execution_count": 745,
   "id": "3797aea0-0b15-4748-b87e-814d6387c27c",
   "metadata": {},
   "outputs": [
    {
     "data": {
      "text/plain": [
       "[10, 10, 20, 30, 40, 2.3, True, (1+2j), 50]"
      ]
     },
     "execution_count": 745,
     "metadata": {},
     "output_type": "execute_result"
    }
   ],
   "source": [
    "l2=l1.copy()\n",
    "l2"
   ]
  },
  {
   "cell_type": "code",
   "execution_count": 747,
   "id": "21ff90b4-f62c-4bd0-86e4-0d110016ceb2",
   "metadata": {},
   "outputs": [
    {
     "data": {
      "text/plain": [
       "[10, 10, 20, 30, 40, 2.3, True, (1+2j), 50]"
      ]
     },
     "execution_count": 747,
     "metadata": {},
     "output_type": "execute_result"
    }
   ],
   "source": [
    "l1"
   ]
  },
  {
   "cell_type": "code",
   "execution_count": 749,
   "id": "38bd4fc3-4a5a-4e2b-a1a5-0f6cb7d0a651",
   "metadata": {},
   "outputs": [
    {
     "data": {
      "text/plain": [
       "[10, 10, 20, 30, 40, 2.3, True, (1+2j)]"
      ]
     },
     "execution_count": 749,
     "metadata": {},
     "output_type": "execute_result"
    }
   ],
   "source": [
    "l2.remove(50)#Remove an element from the list\n",
    "l2"
   ]
  },
  {
   "cell_type": "code",
   "execution_count": 751,
   "id": "9a2bcaae-c552-4ae4-a04a-9a8e803c75d2",
   "metadata": {},
   "outputs": [
    {
     "data": {
      "text/plain": [
       "[]"
      ]
     },
     "execution_count": 751,
     "metadata": {},
     "output_type": "execute_result"
    }
   ],
   "source": [
    "l2.clear()#Clear the all element from the list\n",
    "l2"
   ]
  },
  {
   "cell_type": "code",
   "execution_count": 753,
   "id": "123b79d7-9bbf-465f-b557-5c8606c6c677",
   "metadata": {},
   "outputs": [
    {
     "ename": "NameError",
     "evalue": "name 'l2' is not defined",
     "output_type": "error",
     "traceback": [
      "\u001b[1;31m---------------------------------------------------------------------------\u001b[0m",
      "\u001b[1;31mNameError\u001b[0m                                 Traceback (most recent call last)",
      "Cell \u001b[1;32mIn[753], line 2\u001b[0m\n\u001b[0;32m      1\u001b[0m \u001b[38;5;28;01mdel\u001b[39;00m l2\n\u001b[1;32m----> 2\u001b[0m l2\n",
      "\u001b[1;31mNameError\u001b[0m: name 'l2' is not defined"
     ]
    }
   ],
   "source": [
    "del l2\n",
    "l2"
   ]
  },
  {
   "cell_type": "code",
   "execution_count": 755,
   "id": "9d64ee8b-3c69-4759-bef4-df525d368c2f",
   "metadata": {},
   "outputs": [
    {
     "name": "stdout",
     "output_type": "stream",
     "text": [
      "[10, 10, 20, 30, 40]\n",
      "[10, 10, 20, 30, 40, 2.3, True, (1+2j), 50]\n"
     ]
    }
   ],
   "source": [
    "print(l)\n",
    "print(l1)"
   ]
  },
  {
   "cell_type": "code",
   "execution_count": 757,
   "id": "074cdc7f-c536-4e36-a747-e7eb2ace6349",
   "metadata": {},
   "outputs": [
    {
     "name": "stdout",
     "output_type": "stream",
     "text": [
      "5\n",
      "9\n"
     ]
    }
   ],
   "source": [
    "print(len(l))\n",
    "print(len(l1))"
   ]
  },
  {
   "cell_type": "code",
   "execution_count": 759,
   "id": "4589ffa0-5cc4-4692-9aa5-ab9b9ffad373",
   "metadata": {},
   "outputs": [
    {
     "data": {
      "text/plain": [
       "[10, 10, 20, 30, 40]"
      ]
     },
     "execution_count": 759,
     "metadata": {},
     "output_type": "execute_result"
    }
   ],
   "source": [
    "l"
   ]
  },
  {
   "cell_type": "markdown",
   "id": "6b16c0c2-bfc7-466e-8729-21bc56c6a474",
   "metadata": {},
   "source": [
    "# --LOOP--"
   ]
  },
  {
   "cell_type": "markdown",
   "id": "2d227b20-f34c-4be8-ae9d-0ace0f4e87e5",
   "metadata": {},
   "source": [
    "# FOR LOOP"
   ]
  },
  {
   "cell_type": "code",
   "execution_count": 763,
   "id": "3e016cab-c018-4ae9-8f83-36827fa2c884",
   "metadata": {},
   "outputs": [
    {
     "name": "stdout",
     "output_type": "stream",
     "text": [
      "10\n",
      "10\n",
      "20\n",
      "30\n",
      "40\n"
     ]
    }
   ],
   "source": [
    "for i in l:\n",
    "    print(i)"
   ]
  },
  {
   "cell_type": "code",
   "execution_count": 765,
   "id": "59d2801a-55d8-416a-8ed2-84dea8d092e2",
   "metadata": {},
   "outputs": [
    {
     "data": {
      "text/plain": [
       "[10, 10, 20, 30, 40, [1, 2, 3, 'SK']]"
      ]
     },
     "execution_count": 765,
     "metadata": {},
     "output_type": "execute_result"
    }
   ],
   "source": [
    "l.append([1,2,3,\"SK\",])\n",
    "l\n",
    "         "
   ]
  },
  {
   "cell_type": "code",
   "execution_count": 767,
   "id": "ef9c013a-46fa-4818-b375-b0479b875059",
   "metadata": {},
   "outputs": [
    {
     "data": {
      "text/plain": [
       "[10, 10, 20, 30, 40, [1, 2, 3, 'SK']]"
      ]
     },
     "execution_count": 767,
     "metadata": {},
     "output_type": "execute_result"
    }
   ],
   "source": [
    "l"
   ]
  },
  {
   "cell_type": "code",
   "execution_count": 769,
   "id": "0674a582-fc9a-4c26-9030-a5645155d1ad",
   "metadata": {},
   "outputs": [
    {
     "data": {
      "text/plain": [
       "[10, 10, 30, 40, [1, 2, 3, 'SK']]"
      ]
     },
     "execution_count": 769,
     "metadata": {},
     "output_type": "execute_result"
    }
   ],
   "source": [
    "l.remove(20)\n",
    "l"
   ]
  },
  {
   "cell_type": "code",
   "execution_count": 771,
   "id": "6701d745-563b-4463-a2e8-63b22614c7d2",
   "metadata": {},
   "outputs": [
    {
     "data": {
      "text/plain": [
       "[10, 10, 30, 40, [1, 2, 3, 'SK']]"
      ]
     },
     "execution_count": 771,
     "metadata": {},
     "output_type": "execute_result"
    }
   ],
   "source": [
    "l"
   ]
  },
  {
   "cell_type": "code",
   "execution_count": 773,
   "id": "48e92b84-5a72-4688-9c62-7e829606dd81",
   "metadata": {},
   "outputs": [
    {
     "data": {
      "text/plain": [
       "40"
      ]
     },
     "execution_count": 773,
     "metadata": {},
     "output_type": "execute_result"
    }
   ],
   "source": [
    "l[3]#forward indexing"
   ]
  },
  {
   "cell_type": "code",
   "execution_count": 775,
   "id": "3041f23d-c6bf-40d7-bf7b-6e52b520a53c",
   "metadata": {},
   "outputs": [
    {
     "data": {
      "text/plain": [
       "40"
      ]
     },
     "execution_count": 775,
     "metadata": {},
     "output_type": "execute_result"
    }
   ],
   "source": [
    "l[-2]#Backward Indexing"
   ]
  },
  {
   "cell_type": "code",
   "execution_count": 777,
   "id": "f119f4dc-ffb2-45b0-bf91-b058ccf4ae1d",
   "metadata": {},
   "outputs": [
    {
     "data": {
      "text/plain": [
       "[10, 10, 30, 40, [1, 2, 3, 'SK']]"
      ]
     },
     "execution_count": 777,
     "metadata": {},
     "output_type": "execute_result"
    }
   ],
   "source": [
    "l"
   ]
  },
  {
   "cell_type": "code",
   "execution_count": 779,
   "id": "b5f1b126-1f07-485f-8317-11b0c63057b7",
   "metadata": {},
   "outputs": [
    {
     "data": {
      "text/plain": [
       "[1, 2, 3, 'SK']"
      ]
     },
     "execution_count": 779,
     "metadata": {},
     "output_type": "execute_result"
    }
   ],
   "source": [
    "l.pop()#remove the element by index wise \n",
    "\t\t\t#if you dont pass any argument by default it will take last \n",
    "\n"
   ]
  },
  {
   "cell_type": "code",
   "execution_count": 781,
   "id": "57e3d953-c076-47e0-b995-f8a372ac2b26",
   "metadata": {},
   "outputs": [
    {
     "data": {
      "text/plain": [
       "[10, 10, 30, 40]"
      ]
     },
     "execution_count": 781,
     "metadata": {},
     "output_type": "execute_result"
    }
   ],
   "source": [
    "l"
   ]
  },
  {
   "cell_type": "code",
   "execution_count": 783,
   "id": "7bb77879-2cd6-4288-b409-814876b32e92",
   "metadata": {},
   "outputs": [
    {
     "data": {
      "text/plain": [
       "[10, 10, 20, 30, 40, 2.3, True, (1+2j), 50]"
      ]
     },
     "execution_count": 783,
     "metadata": {},
     "output_type": "execute_result"
    }
   ],
   "source": [
    "l1"
   ]
  },
  {
   "cell_type": "code",
   "execution_count": 785,
   "id": "79194fa8-d819-4baf-8e0a-b216abe0c370",
   "metadata": {},
   "outputs": [
    {
     "data": {
      "text/plain": [
       "50"
      ]
     },
     "execution_count": 785,
     "metadata": {},
     "output_type": "execute_result"
    }
   ],
   "source": [
    "l1.pop()"
   ]
  },
  {
   "cell_type": "code",
   "execution_count": 787,
   "id": "960a4307-f9af-441b-8da6-7d99f83451f7",
   "metadata": {},
   "outputs": [
    {
     "data": {
      "text/plain": [
       "[10, 10, 20, 30, 40, 2.3, True, (1+2j)]"
      ]
     },
     "execution_count": 787,
     "metadata": {},
     "output_type": "execute_result"
    }
   ],
   "source": [
    "l1"
   ]
  },
  {
   "cell_type": "code",
   "execution_count": 789,
   "id": "f9dc10e6-ab33-4c01-a040-08b31234e3c9",
   "metadata": {},
   "outputs": [
    {
     "data": {
      "text/plain": [
       "10"
      ]
     },
     "execution_count": 789,
     "metadata": {},
     "output_type": "execute_result"
    }
   ],
   "source": [
    "l1.pop(1)"
   ]
  },
  {
   "cell_type": "code",
   "execution_count": 791,
   "id": "35e06503-3e7a-4231-99d6-2087541477ab",
   "metadata": {},
   "outputs": [
    {
     "data": {
      "text/plain": [
       "[10, 20, 30, 40, 2.3, True, (1+2j)]"
      ]
     },
     "execution_count": 791,
     "metadata": {},
     "output_type": "execute_result"
    }
   ],
   "source": [
    "l1"
   ]
  },
  {
   "cell_type": "code",
   "execution_count": 793,
   "id": "549d35ad-cb9e-46d4-8b14-726b7c66b9d1",
   "metadata": {},
   "outputs": [
    {
     "data": {
      "text/plain": [
       "(1+2j)"
      ]
     },
     "execution_count": 793,
     "metadata": {},
     "output_type": "execute_result"
    }
   ],
   "source": [
    "l1.pop(-1)"
   ]
  },
  {
   "cell_type": "code",
   "execution_count": 795,
   "id": "7d6ade1e-eede-4ee5-bb36-85f2212013f6",
   "metadata": {},
   "outputs": [
    {
     "data": {
      "text/plain": [
       "[10, 20, 30, 40, 2.3, True]"
      ]
     },
     "execution_count": 795,
     "metadata": {},
     "output_type": "execute_result"
    }
   ],
   "source": [
    "l1"
   ]
  },
  {
   "cell_type": "code",
   "execution_count": 797,
   "id": "17559292-fc85-4224-af8d-ab9b7d2aa307",
   "metadata": {},
   "outputs": [
    {
     "data": {
      "text/plain": [
       "[10, 10, 30, 40]"
      ]
     },
     "execution_count": 797,
     "metadata": {},
     "output_type": "execute_result"
    }
   ],
   "source": [
    "l"
   ]
  },
  {
   "cell_type": "code",
   "execution_count": 799,
   "id": "b5db336a-0885-430f-953e-fe3277d7517d",
   "metadata": {},
   "outputs": [
    {
     "data": {
      "text/plain": [
       "40"
      ]
     },
     "execution_count": 799,
     "metadata": {},
     "output_type": "execute_result"
    }
   ],
   "source": [
    "l.pop()"
   ]
  },
  {
   "cell_type": "code",
   "execution_count": 801,
   "id": "d331f4c3-0466-4af3-9a1a-357cd8f08754",
   "metadata": {},
   "outputs": [
    {
     "data": {
      "text/plain": [
       "[10, 10, 30]"
      ]
     },
     "execution_count": 801,
     "metadata": {},
     "output_type": "execute_result"
    }
   ],
   "source": [
    "l"
   ]
  },
  {
   "cell_type": "code",
   "execution_count": 803,
   "id": "283b1705-d3f8-47b9-a70b-92e011c26582",
   "metadata": {},
   "outputs": [
    {
     "data": {
      "text/plain": [
       "[10, 10, 30, 20]"
      ]
     },
     "execution_count": 803,
     "metadata": {},
     "output_type": "execute_result"
    }
   ],
   "source": [
    "l.append(20)\n",
    "l"
   ]
  },
  {
   "cell_type": "code",
   "execution_count": 805,
   "id": "ea11ad15-d6a7-40ce-96a3-7badacb40316",
   "metadata": {},
   "outputs": [
    {
     "data": {
      "text/plain": [
       "[10, 20, 30, 40, 2.3, True]"
      ]
     },
     "execution_count": 805,
     "metadata": {},
     "output_type": "execute_result"
    }
   ],
   "source": [
    "l2=l1.copy()\n",
    "l2"
   ]
  },
  {
   "cell_type": "code",
   "execution_count": 807,
   "id": "7ce61afa-9f7b-49c1-8cec-95a9c130b573",
   "metadata": {},
   "outputs": [
    {
     "name": "stdout",
     "output_type": "stream",
     "text": [
      "[10, 10, 30, 20]\n",
      "[10, 20, 30, 40, 2.3, True]\n"
     ]
    }
   ],
   "source": [
    "print(l)\n",
    "print(l2)"
   ]
  },
  {
   "cell_type": "code",
   "execution_count": 809,
   "id": "a83e9506-53f1-48bc-8526-a1de54695256",
   "metadata": {},
   "outputs": [],
   "source": [
    "l2.insert(3,2.3)#enter first index num then the element of that index\n",
    "                #insert the element or value before index"
   ]
  },
  {
   "cell_type": "code",
   "execution_count": 811,
   "id": "4e8e1a32-1e56-44f3-ac73-1256339248d7",
   "metadata": {},
   "outputs": [
    {
     "data": {
      "text/plain": [
       "[10, 20, 30, 2.3, 40, 2.3, True]"
      ]
     },
     "execution_count": 811,
     "metadata": {},
     "output_type": "execute_result"
    }
   ],
   "source": [
    "l2"
   ]
  },
  {
   "cell_type": "code",
   "execution_count": 813,
   "id": "ee27574d-49cf-455a-b526-2914c5808cd6",
   "metadata": {},
   "outputs": [
    {
     "data": {
      "text/plain": [
       "[10, 20, 30, 40, 2.3, True]"
      ]
     },
     "execution_count": 813,
     "metadata": {},
     "output_type": "execute_result"
    }
   ],
   "source": [
    "l1"
   ]
  },
  {
   "cell_type": "code",
   "execution_count": 815,
   "id": "70dfbeb2-f346-4e62-a235-dd25055541d9",
   "metadata": {},
   "outputs": [
    {
     "data": {
      "text/plain": [
       "[10, 20, 30, 2.3, 40, 2.3, True]"
      ]
     },
     "execution_count": 815,
     "metadata": {},
     "output_type": "execute_result"
    }
   ],
   "source": [
    "l2"
   ]
  },
  {
   "cell_type": "code",
   "execution_count": 817,
   "id": "46d74c01-e20c-4e06-ac97-f4c864ea764d",
   "metadata": {},
   "outputs": [
    {
     "data": {
      "text/plain": [
       "[10, 20, 30, 2.3, 23, 40, 2.3, True]"
      ]
     },
     "execution_count": 817,
     "metadata": {},
     "output_type": "execute_result"
    }
   ],
   "source": [
    "l2.insert(4,23)\n",
    "l2"
   ]
  },
  {
   "cell_type": "code",
   "execution_count": 819,
   "id": "d16e7902-d238-4742-a49f-0991e58fb6e3",
   "metadata": {},
   "outputs": [
    {
     "data": {
      "text/plain": [
       "[10, 20, 20, 30, 2.3, 23, 40, 2.3, True]"
      ]
     },
     "execution_count": 819,
     "metadata": {},
     "output_type": "execute_result"
    }
   ],
   "source": [
    "l2.insert(-6,20)\n",
    "l2"
   ]
  },
  {
   "cell_type": "code",
   "execution_count": 821,
   "id": "eaf45448-baf8-4221-ad71-9058edf06713",
   "metadata": {},
   "outputs": [
    {
     "data": {
      "text/plain": [
       "[10, 20, 30, 40, 2.3, True]"
      ]
     },
     "execution_count": 821,
     "metadata": {},
     "output_type": "execute_result"
    }
   ],
   "source": [
    "l1"
   ]
  },
  {
   "cell_type": "code",
   "execution_count": 823,
   "id": "78c4b88a-f447-4e3c-8936-f3dfa6402f8b",
   "metadata": {},
   "outputs": [
    {
     "data": {
      "text/plain": [
       "[]"
      ]
     },
     "execution_count": 823,
     "metadata": {},
     "output_type": "execute_result"
    }
   ],
   "source": [
    "l2=[]\n",
    "l2"
   ]
  },
  {
   "cell_type": "code",
   "execution_count": 825,
   "id": "bb8f32b0-e303-4a13-88f8-568745821701",
   "metadata": {
    "jp-MarkdownHeadingCollapsed": true
   },
   "outputs": [
    {
     "data": {
      "text/plain": [
       "[10, 20, 30, 40, 2.3, True]"
      ]
     },
     "execution_count": 825,
     "metadata": {},
     "output_type": "execute_result"
    }
   ],
   "source": [
    "l2.extend(l1)\n",
    "l2"
   ]
  },
  {
   "cell_type": "code",
   "execution_count": 827,
   "id": "a0a2ded1-9994-41d2-8f46-3d5b76fe8462",
   "metadata": {},
   "outputs": [
    {
     "data": {
      "text/plain": [
       "[10, 10, 30, 20]"
      ]
     },
     "execution_count": 827,
     "metadata": {},
     "output_type": "execute_result"
    }
   ],
   "source": [
    "l"
   ]
  },
  {
   "cell_type": "code",
   "execution_count": 829,
   "id": "5513bae5-3d51-48d1-81dd-1a090dfcf898",
   "metadata": {},
   "outputs": [
    {
     "data": {
      "text/plain": [
       "[10, 10, 30, 20, 10, 20, 30, 40, 2.3, True]"
      ]
     },
     "execution_count": 829,
     "metadata": {},
     "output_type": "execute_result"
    }
   ],
   "source": [
    "l.extend(l1)\n",
    "l"
   ]
  },
  {
   "cell_type": "code",
   "execution_count": 831,
   "id": "c3144193-8925-4aa5-a43d-8cb39fad2253",
   "metadata": {},
   "outputs": [
    {
     "name": "stdout",
     "output_type": "stream",
     "text": [
      "[10, 10, 30, 20, 10, 20, 30, 40, 2.3, True]\n"
     ]
    }
   ],
   "source": [
    "print(l)"
   ]
  },
  {
   "cell_type": "code",
   "execution_count": 833,
   "id": "5f0d5a31-726c-4e20-9a01-ac88950cbbf7",
   "metadata": {},
   "outputs": [
    {
     "name": "stdout",
     "output_type": "stream",
     "text": [
      "[10, 20, 30, 40, 2.3, True]\n"
     ]
    }
   ],
   "source": [
    "print(l2)"
   ]
  },
  {
   "cell_type": "code",
   "execution_count": 835,
   "id": "af99b8f5-adf0-4814-93e3-7843ab3181d1",
   "metadata": {},
   "outputs": [
    {
     "data": {
      "text/plain": [
       "2"
      ]
     },
     "execution_count": 835,
     "metadata": {},
     "output_type": "execute_result"
    }
   ],
   "source": [
    "l2.index(30)#it will give index number of an element or value"
   ]
  },
  {
   "cell_type": "code",
   "execution_count": 837,
   "id": "88bfcd7a-6d3a-4d33-ac8b-4b2194ff81c9",
   "metadata": {},
   "outputs": [
    {
     "data": {
      "text/plain": [
       "[10, 10, 30, 20, 10, 20, 30, 40, 2.3, True]"
      ]
     },
     "execution_count": 837,
     "metadata": {},
     "output_type": "execute_result"
    }
   ],
   "source": [
    "l"
   ]
  },
  {
   "cell_type": "code",
   "execution_count": 839,
   "id": "3e744fa4-dd06-4246-9c53-58052efd05cf",
   "metadata": {},
   "outputs": [
    {
     "data": {
      "text/plain": [
       "3"
      ]
     },
     "execution_count": 839,
     "metadata": {},
     "output_type": "execute_result"
    }
   ],
   "source": [
    "l.index(20)"
   ]
  },
  {
   "cell_type": "code",
   "execution_count": 841,
   "id": "dd2f00a7-faee-424c-b864-9e1a4096bf0b",
   "metadata": {},
   "outputs": [
    {
     "data": {
      "text/plain": [
       "[10, 10, 30, 20, 10, 20, 30, 40, 2.3, True]"
      ]
     },
     "execution_count": 841,
     "metadata": {},
     "output_type": "execute_result"
    }
   ],
   "source": [
    "l"
   ]
  },
  {
   "cell_type": "code",
   "execution_count": 843,
   "id": "e1c97348-b7cb-402f-b8dc-4d7dda16e30e",
   "metadata": {},
   "outputs": [
    {
     "data": {
      "text/plain": [
       "[10, 20, 30, 40, 2.3, True]"
      ]
     },
     "execution_count": 843,
     "metadata": {},
     "output_type": "execute_result"
    }
   ],
   "source": [
    "l2"
   ]
  },
  {
   "cell_type": "code",
   "execution_count": 845,
   "id": "4186c558-f30a-44d5-a3db-edd5392431a4",
   "metadata": {},
   "outputs": [
    {
     "data": {
      "text/plain": [
       "[10, 20, 30, 40, 2.3, True]"
      ]
     },
     "execution_count": 845,
     "metadata": {},
     "output_type": "execute_result"
    }
   ],
   "source": [
    "l1"
   ]
  },
  {
   "cell_type": "code",
   "execution_count": 847,
   "id": "4315fc72-afbc-48b8-8b04-157fe373c12c",
   "metadata": {},
   "outputs": [
    {
     "data": {
      "text/plain": [
       "[True, 2.3, 10, 20, 30, 40]"
      ]
     },
     "execution_count": 847,
     "metadata": {},
     "output_type": "execute_result"
    }
   ],
   "source": [
    "l1.sort()#ascending order \n",
    "l1"
   ]
  },
  {
   "cell_type": "code",
   "execution_count": 849,
   "id": "023f489a-3b6a-45f4-b891-5048d71967bf",
   "metadata": {},
   "outputs": [
    {
     "data": {
      "text/plain": [
       "[10, 20, 30, 40, 2.3, True]"
      ]
     },
     "execution_count": 849,
     "metadata": {},
     "output_type": "execute_result"
    }
   ],
   "source": [
    "l2"
   ]
  },
  {
   "cell_type": "code",
   "execution_count": 851,
   "id": "7f050d31-c0ae-4846-9385-c7fc2df6c009",
   "metadata": {},
   "outputs": [
    {
     "data": {
      "text/plain": [
       "[True, 2.3, 10, 20, 30, 40]"
      ]
     },
     "execution_count": 851,
     "metadata": {},
     "output_type": "execute_result"
    }
   ],
   "source": [
    "l2.sort()\n",
    "l2"
   ]
  },
  {
   "cell_type": "code",
   "execution_count": 853,
   "id": "755be1cc-f1c5-4417-aaea-8d0e503861e8",
   "metadata": {},
   "outputs": [
    {
     "data": {
      "text/plain": [
       "[10, 10, 30, 20, 10, 20, 30, 40, 2.3, True]"
      ]
     },
     "execution_count": 853,
     "metadata": {},
     "output_type": "execute_result"
    }
   ],
   "source": [
    "l"
   ]
  },
  {
   "cell_type": "code",
   "execution_count": 855,
   "id": "19849593-4f8d-4a4b-8674-5dfa7722725f",
   "metadata": {},
   "outputs": [
    {
     "data": {
      "text/plain": [
       "[10, 10, 30, 20, 10, 20, 30, 40, 2.3]"
      ]
     },
     "execution_count": 855,
     "metadata": {},
     "output_type": "execute_result"
    }
   ],
   "source": [
    "l.remove(True)\n",
    "l"
   ]
  },
  {
   "cell_type": "code",
   "execution_count": 857,
   "id": "1f7254b3-b236-4add-88c6-cace675e8dd2",
   "metadata": {},
   "outputs": [
    {
     "data": {
      "text/plain": [
       "[10, 10, 30, 20, 10, 20, 30, 40, 2.3]"
      ]
     },
     "execution_count": 857,
     "metadata": {},
     "output_type": "execute_result"
    }
   ],
   "source": [
    "l"
   ]
  },
  {
   "cell_type": "code",
   "execution_count": 859,
   "id": "d50a0729-75d5-4f24-84ca-f5739b00f4af",
   "metadata": {},
   "outputs": [
    {
     "data": {
      "text/plain": [
       "[40, 30, 30, 20, 20, 10, 10, 10, 2.3]"
      ]
     },
     "execution_count": 859,
     "metadata": {},
     "output_type": "execute_result"
    }
   ],
   "source": [
    "l.sort(reverse=True) #descending order\n",
    "l"
   ]
  },
  {
   "cell_type": "code",
   "execution_count": 861,
   "id": "8af9abd9-fddc-4c22-8aa0-26cd4437c7bb",
   "metadata": {},
   "outputs": [
    {
     "data": {
      "text/plain": [
       "[True, 2.3, 10, 20, 30, 40]"
      ]
     },
     "execution_count": 861,
     "metadata": {},
     "output_type": "execute_result"
    }
   ],
   "source": [
    "l2"
   ]
  },
  {
   "cell_type": "code",
   "execution_count": 863,
   "id": "41c3962a-a2c4-4b79-a6b5-05b0d6608afb",
   "metadata": {},
   "outputs": [
    {
     "data": {
      "text/plain": [
       "[2.3, 10, 20, 30, 40]"
      ]
     },
     "execution_count": 863,
     "metadata": {},
     "output_type": "execute_result"
    }
   ],
   "source": [
    "l2.remove(True)\n",
    "l2"
   ]
  },
  {
   "cell_type": "code",
   "execution_count": 865,
   "id": "7377ddc7-c4a3-40ad-8f48-e8697c002eeb",
   "metadata": {},
   "outputs": [
    {
     "data": {
      "text/plain": [
       "[2.3, 10, 20, 30, 40]"
      ]
     },
     "execution_count": 865,
     "metadata": {},
     "output_type": "execute_result"
    }
   ],
   "source": [
    "l2"
   ]
  },
  {
   "cell_type": "code",
   "execution_count": 867,
   "id": "65ea2a2c-fcc6-453d-a0a6-6db8f02e5050",
   "metadata": {},
   "outputs": [
    {
     "ename": "ValueError",
     "evalue": "list.remove(x): x not in list",
     "output_type": "error",
     "traceback": [
      "\u001b[1;31m---------------------------------------------------------------------------\u001b[0m",
      "\u001b[1;31mValueError\u001b[0m                                Traceback (most recent call last)",
      "Cell \u001b[1;32mIn[867], line 1\u001b[0m\n\u001b[1;32m----> 1\u001b[0m l2\u001b[38;5;241m.\u001b[39mremove(\u001b[38;5;28;01mTrue\u001b[39;00m)\n\u001b[0;32m      2\u001b[0m l2\n",
      "\u001b[1;31mValueError\u001b[0m: list.remove(x): x not in list"
     ]
    }
   ],
   "source": [
    "l2.remove(True)\n",
    "l2"
   ]
  },
  {
   "cell_type": "code",
   "execution_count": 869,
   "id": "8c947928-ee09-4656-ae73-72253a206b50",
   "metadata": {},
   "outputs": [
    {
     "data": {
      "text/plain": [
       "[2.3, 10, 20, 30, 40]"
      ]
     },
     "execution_count": 869,
     "metadata": {},
     "output_type": "execute_result"
    }
   ],
   "source": [
    "l2.sort()\n",
    "l2"
   ]
  },
  {
   "cell_type": "code",
   "execution_count": 871,
   "id": "0232ccbd-2f04-4690-9c11-d53bba973dae",
   "metadata": {},
   "outputs": [
    {
     "data": {
      "text/plain": [
       "[2.3, 10, 20, 30, 40]"
      ]
     },
     "execution_count": 871,
     "metadata": {},
     "output_type": "execute_result"
    }
   ],
   "source": [
    "l2"
   ]
  },
  {
   "cell_type": "code",
   "execution_count": 873,
   "id": "368350cb-319f-49d1-9ffd-80342b96d33d",
   "metadata": {},
   "outputs": [
    {
     "data": {
      "text/plain": [
       "[40, 30, 20, 10, 2.3]"
      ]
     },
     "execution_count": 873,
     "metadata": {},
     "output_type": "execute_result"
    }
   ],
   "source": [
    "l2.sort(reverse=True)\n",
    "l2"
   ]
  },
  {
   "cell_type": "code",
   "execution_count": 875,
   "id": "6f8061f9-b3fe-4b67-acdd-37ce6b249a05",
   "metadata": {},
   "outputs": [
    {
     "data": {
      "text/plain": [
       "[40, 30, 20, 10, 2.3]"
      ]
     },
     "execution_count": 875,
     "metadata": {},
     "output_type": "execute_result"
    }
   ],
   "source": [
    "l2"
   ]
  },
  {
   "cell_type": "code",
   "execution_count": 877,
   "id": "19f13388-15f6-4013-bd67-b27875a8fe20",
   "metadata": {},
   "outputs": [
    {
     "data": {
      "text/plain": [
       "[2.3, 10, 20, 30, 40]"
      ]
     },
     "execution_count": 877,
     "metadata": {},
     "output_type": "execute_result"
    }
   ],
   "source": [
    "l2.sort(reverse=False)#same l2.sort() asscending order\n",
    "l2"
   ]
  },
  {
   "cell_type": "code",
   "execution_count": 879,
   "id": "8261647f-d202-49be-a9c6-e52d7e5749c3",
   "metadata": {},
   "outputs": [
    {
     "data": {
      "text/plain": [
       "[30, 40, 100, 5, 75]"
      ]
     },
     "execution_count": 879,
     "metadata": {},
     "output_type": "execute_result"
    }
   ],
   "source": [
    "l3=[30,40,100,5,75]\n",
    "l3"
   ]
  },
  {
   "cell_type": "code",
   "execution_count": 881,
   "id": "8009f1ef-29c6-4605-b0ed-65ca9ef7a3a4",
   "metadata": {},
   "outputs": [
    {
     "data": {
      "text/plain": [
       "[5, 30, 40, 75, 100]"
      ]
     },
     "execution_count": 881,
     "metadata": {},
     "output_type": "execute_result"
    }
   ],
   "source": [
    "l3.sort()\n",
    "l3"
   ]
  },
  {
   "cell_type": "code",
   "execution_count": 883,
   "id": "7d6639c4-ff86-4149-86eb-e4db4a1a3bec",
   "metadata": {},
   "outputs": [
    {
     "data": {
      "text/plain": [
       "[100, 75, 40, 30, 5]"
      ]
     },
     "execution_count": 883,
     "metadata": {},
     "output_type": "execute_result"
    }
   ],
   "source": [
    "l3.sort(reverse=True)\n",
    "l3"
   ]
  },
  {
   "cell_type": "code",
   "execution_count": 885,
   "id": "47d02515-00b6-4e9b-b16b-1fc4eaff190f",
   "metadata": {},
   "outputs": [
    {
     "data": {
      "text/plain": [
       "[23, 4.5, True, 'sk', (1+2j)]"
      ]
     },
     "execution_count": 885,
     "metadata": {},
     "output_type": "execute_result"
    }
   ],
   "source": [
    "l4=[23,4.5,True,\"sk\",1+2j]\n",
    "l4"
   ]
  },
  {
   "cell_type": "code",
   "execution_count": 887,
   "id": "19bc535f-4dc3-49bb-b322-3887fe3359d8",
   "metadata": {},
   "outputs": [
    {
     "ename": "TypeError",
     "evalue": "'<' not supported between instances of 'str' and 'bool'",
     "output_type": "error",
     "traceback": [
      "\u001b[1;31m---------------------------------------------------------------------------\u001b[0m",
      "\u001b[1;31mTypeError\u001b[0m                                 Traceback (most recent call last)",
      "Cell \u001b[1;32mIn[887], line 1\u001b[0m\n\u001b[1;32m----> 1\u001b[0m l4\u001b[38;5;241m.\u001b[39msort()\n\u001b[0;32m      2\u001b[0m l4\n",
      "\u001b[1;31mTypeError\u001b[0m: '<' not supported between instances of 'str' and 'bool'"
     ]
    }
   ],
   "source": [
    "l4.sort()\n",
    "l4"
   ]
  },
  {
   "cell_type": "code",
   "execution_count": 889,
   "id": "60fc0db6-8afe-4cd8-9edd-9a61bec5ce14",
   "metadata": {},
   "outputs": [
    {
     "data": {
      "text/plain": [
       "[23, 4.5, 'sk', (1+2j)]"
      ]
     },
     "execution_count": 889,
     "metadata": {},
     "output_type": "execute_result"
    }
   ],
   "source": [
    "l4.remove(True)\n",
    "l4"
   ]
  },
  {
   "cell_type": "code",
   "execution_count": 891,
   "id": "ee09027e-a14a-496f-a65b-98104baefaf2",
   "metadata": {},
   "outputs": [
    {
     "data": {
      "text/plain": [
       "[23, 4.5, (1+2j)]"
      ]
     },
     "execution_count": 891,
     "metadata": {},
     "output_type": "execute_result"
    }
   ],
   "source": [
    "l4.remove(\"sk\")\n",
    "l4"
   ]
  },
  {
   "cell_type": "code",
   "execution_count": 893,
   "id": "a5ba2e29-80bc-4e80-ba86-bbaba1511429",
   "metadata": {},
   "outputs": [
    {
     "data": {
      "text/plain": [
       "[23, 4.5, (1+2j)]"
      ]
     },
     "execution_count": 893,
     "metadata": {},
     "output_type": "execute_result"
    }
   ],
   "source": [
    "l4"
   ]
  },
  {
   "cell_type": "code",
   "execution_count": 895,
   "id": "7470483a-b6ab-40b0-b425-b3b6be7c7a15",
   "metadata": {},
   "outputs": [
    {
     "ename": "TypeError",
     "evalue": "'<' not supported between instances of 'complex' and 'float'",
     "output_type": "error",
     "traceback": [
      "\u001b[1;31m---------------------------------------------------------------------------\u001b[0m",
      "\u001b[1;31mTypeError\u001b[0m                                 Traceback (most recent call last)",
      "Cell \u001b[1;32mIn[895], line 1\u001b[0m\n\u001b[1;32m----> 1\u001b[0m l4\u001b[38;5;241m.\u001b[39msort()\n",
      "\u001b[1;31mTypeError\u001b[0m: '<' not supported between instances of 'complex' and 'float'"
     ]
    }
   ],
   "source": [
    "l4.sort()"
   ]
  },
  {
   "cell_type": "code",
   "execution_count": 897,
   "id": "297179fb-5c14-4cd7-b979-8ac5f23a852a",
   "metadata": {},
   "outputs": [],
   "source": [
    "l4.remove(1+2j)"
   ]
  },
  {
   "cell_type": "code",
   "execution_count": 899,
   "id": "a1b6f193-ba54-4797-a797-b0604b903561",
   "metadata": {},
   "outputs": [
    {
     "data": {
      "text/plain": [
       "[23, 4.5]"
      ]
     },
     "execution_count": 899,
     "metadata": {},
     "output_type": "execute_result"
    }
   ],
   "source": [
    "l4"
   ]
  },
  {
   "cell_type": "code",
   "execution_count": 901,
   "id": "4bd316ad-3255-42bb-8700-2da511d38924",
   "metadata": {},
   "outputs": [
    {
     "data": {
      "text/plain": [
       "[4.5, 23]"
      ]
     },
     "execution_count": 901,
     "metadata": {},
     "output_type": "execute_result"
    }
   ],
   "source": [
    "l4.sort()#sort() only work between int and string\n",
    "l4"
   ]
  },
  {
   "cell_type": "code",
   "execution_count": 903,
   "id": "0debc147-c7b7-44c0-8c2a-c6e09c2f0f85",
   "metadata": {},
   "outputs": [
    {
     "data": {
      "text/plain": [
       "[(1+2j), (2+3j)]"
      ]
     },
     "execution_count": 903,
     "metadata": {},
     "output_type": "execute_result"
    }
   ],
   "source": [
    "l5=[1+2j,2+3j]\n",
    "l5"
   ]
  },
  {
   "cell_type": "code",
   "execution_count": 905,
   "id": "c4b67aac-0133-4334-8699-6d0b5e823f44",
   "metadata": {},
   "outputs": [
    {
     "ename": "TypeError",
     "evalue": "'<' not supported between instances of 'complex' and 'complex'",
     "output_type": "error",
     "traceback": [
      "\u001b[1;31m---------------------------------------------------------------------------\u001b[0m",
      "\u001b[1;31mTypeError\u001b[0m                                 Traceback (most recent call last)",
      "Cell \u001b[1;32mIn[905], line 1\u001b[0m\n\u001b[1;32m----> 1\u001b[0m l5\u001b[38;5;241m.\u001b[39msort()\n",
      "\u001b[1;31mTypeError\u001b[0m: '<' not supported between instances of 'complex' and 'complex'"
     ]
    }
   ],
   "source": [
    "l5.sort()#not work bet comp and comp."
   ]
  },
  {
   "cell_type": "code",
   "execution_count": 907,
   "id": "b1d24de4-8114-46ba-9544-4ace32de0399",
   "metadata": {},
   "outputs": [
    {
     "data": {
      "text/plain": [
       "[True, False]"
      ]
     },
     "execution_count": 907,
     "metadata": {},
     "output_type": "execute_result"
    }
   ],
   "source": [
    "l6=[True,False]\n",
    "l6"
   ]
  },
  {
   "cell_type": "code",
   "execution_count": 909,
   "id": "bb21ac60-8b51-4184-a6f3-be23a2809ec3",
   "metadata": {},
   "outputs": [
    {
     "data": {
      "text/plain": [
       "[False, True]"
      ]
     },
     "execution_count": 909,
     "metadata": {},
     "output_type": "execute_result"
    }
   ],
   "source": [
    "l6.sort()#work between bool and bool\n",
    "l6"
   ]
  },
  {
   "cell_type": "code",
   "execution_count": 911,
   "id": "353e32cb-ea18-4ce2-bf10-32cde4393cd7",
   "metadata": {},
   "outputs": [
    {
     "data": {
      "text/plain": [
       "[False, True]"
      ]
     },
     "execution_count": 911,
     "metadata": {},
     "output_type": "execute_result"
    }
   ],
   "source": [
    "l6"
   ]
  },
  {
   "cell_type": "code",
   "execution_count": 913,
   "id": "97c37aac-f60a-49ef-b173-c63030ca810a",
   "metadata": {},
   "outputs": [
    {
     "data": {
      "text/plain": [
       "[False, True, True]"
      ]
     },
     "execution_count": 913,
     "metadata": {},
     "output_type": "execute_result"
    }
   ],
   "source": [
    "l6.append(True)\n",
    "l6"
   ]
  },
  {
   "cell_type": "code",
   "execution_count": 915,
   "id": "115972ba-0d3a-4758-b3a4-99ea94c2e0d5",
   "metadata": {},
   "outputs": [
    {
     "data": {
      "text/plain": [
       "2"
      ]
     },
     "execution_count": 915,
     "metadata": {},
     "output_type": "execute_result"
    }
   ],
   "source": [
    "l6.count(True)\n"
   ]
  },
  {
   "cell_type": "code",
   "execution_count": 917,
   "id": "3da8ffd0-3acd-4889-8f30-b152704af942",
   "metadata": {},
   "outputs": [
    {
     "data": {
      "text/plain": [
       "[False, True, True]"
      ]
     },
     "execution_count": 917,
     "metadata": {},
     "output_type": "execute_result"
    }
   ],
   "source": [
    "l6\n"
   ]
  },
  {
   "cell_type": "code",
   "execution_count": 919,
   "id": "1ceefe2b-1a65-4a0f-b3d3-f042f98ec655",
   "metadata": {},
   "outputs": [
    {
     "data": {
      "text/plain": [
       "0"
      ]
     },
     "execution_count": 919,
     "metadata": {},
     "output_type": "execute_result"
    }
   ],
   "source": [
    "l6.index(False)"
   ]
  },
  {
   "cell_type": "code",
   "execution_count": 921,
   "id": "d9ee0c0e-6cf7-4d1c-9fcd-93d1f2a6fac1",
   "metadata": {},
   "outputs": [
    {
     "data": {
      "text/plain": [
       "['sk', 'ak', 'gk']"
      ]
     },
     "execution_count": 921,
     "metadata": {},
     "output_type": "execute_result"
    }
   ],
   "source": [
    "l7=[\"sk\",\"ak\",\"gk\"]\n",
    "l7"
   ]
  },
  {
   "cell_type": "code",
   "execution_count": 923,
   "id": "728fbf86-29c9-46eb-b64c-922f90508793",
   "metadata": {},
   "outputs": [
    {
     "data": {
      "text/plain": [
       "['ak', 'gk', 'sk']"
      ]
     },
     "execution_count": 923,
     "metadata": {},
     "output_type": "execute_result"
    }
   ],
   "source": [
    "l7.sort()#work between str and str\n",
    "l7"
   ]
  },
  {
   "cell_type": "code",
   "execution_count": 925,
   "id": "6d8b14a4-1d45-43d5-9df1-c94c57ec6761",
   "metadata": {},
   "outputs": [
    {
     "data": {
      "text/plain": [
       "[40, 30, 30, 20, 20, 10, 10, 10, 2.3]"
      ]
     },
     "execution_count": 925,
     "metadata": {},
     "output_type": "execute_result"
    }
   ],
   "source": [
    "l"
   ]
  },
  {
   "cell_type": "code",
   "execution_count": 927,
   "id": "44852e50-11af-46f9-acb4-25cdec6dc8b7",
   "metadata": {},
   "outputs": [
    {
     "data": {
      "text/plain": [
       "[2.3, 10, 20, 30, 40]"
      ]
     },
     "execution_count": 927,
     "metadata": {},
     "output_type": "execute_result"
    }
   ],
   "source": [
    "l2"
   ]
  },
  {
   "cell_type": "code",
   "execution_count": 929,
   "id": "dc52e1f5-fe6b-4252-ba1e-1e7d052cb117",
   "metadata": {},
   "outputs": [
    {
     "data": {
      "text/plain": [
       "[100, 75, 40, 30, 5]"
      ]
     },
     "execution_count": 929,
     "metadata": {},
     "output_type": "execute_result"
    }
   ],
   "source": [
    "l3"
   ]
  },
  {
   "cell_type": "code",
   "execution_count": 931,
   "id": "97698275-2dfc-470d-9ce2-ec2b8f0444d7",
   "metadata": {},
   "outputs": [
    {
     "data": {
      "text/plain": [
       "[4.5, 23]"
      ]
     },
     "execution_count": 931,
     "metadata": {},
     "output_type": "execute_result"
    }
   ],
   "source": [
    "l4"
   ]
  },
  {
   "cell_type": "code",
   "execution_count": 933,
   "id": "eef2a394-6a19-4656-9507-b52d4a7f26ff",
   "metadata": {},
   "outputs": [
    {
     "data": {
      "text/plain": [
       "[4.5, 23, 'str']"
      ]
     },
     "execution_count": 933,
     "metadata": {},
     "output_type": "execute_result"
    }
   ],
   "source": [
    "l4.append(\"str\")\n",
    "l4"
   ]
  },
  {
   "cell_type": "code",
   "execution_count": 935,
   "id": "6e10539d-67a5-4b23-ab78-2b01e67e2fc5",
   "metadata": {},
   "outputs": [
    {
     "ename": "TypeError",
     "evalue": "'<' not supported between instances of 'str' and 'int'",
     "output_type": "error",
     "traceback": [
      "\u001b[1;31m---------------------------------------------------------------------------\u001b[0m",
      "\u001b[1;31mTypeError\u001b[0m                                 Traceback (most recent call last)",
      "Cell \u001b[1;32mIn[935], line 1\u001b[0m\n\u001b[1;32m----> 1\u001b[0m l4\u001b[38;5;241m.\u001b[39msort()\n\u001b[0;32m      2\u001b[0m l4\n",
      "\u001b[1;31mTypeError\u001b[0m: '<' not supported between instances of 'str' and 'int'"
     ]
    }
   ],
   "source": [
    "l4.sort()\n",
    "l4"
   ]
  },
  {
   "cell_type": "code",
   "execution_count": 937,
   "id": "17c03125-d9d8-4286-9dec-a4ec1aee34e9",
   "metadata": {},
   "outputs": [
    {
     "data": {
      "text/plain": [
       "[4.5, 23, 'str']"
      ]
     },
     "execution_count": 937,
     "metadata": {},
     "output_type": "execute_result"
    }
   ],
   "source": [
    "l4"
   ]
  },
  {
   "cell_type": "code",
   "execution_count": 938,
   "id": "08f73c7f-1a4e-4700-b72d-dff01bfb4642",
   "metadata": {},
   "outputs": [
    {
     "data": {
      "text/plain": [
       "[4.5, 'str']"
      ]
     },
     "execution_count": 938,
     "metadata": {},
     "output_type": "execute_result"
    }
   ],
   "source": [
    "l4.remove(23)\n",
    "l4"
   ]
  },
  {
   "cell_type": "code",
   "execution_count": 941,
   "id": "5000a4aa-1017-47f1-82ff-a44fda425cc4",
   "metadata": {},
   "outputs": [
    {
     "data": {
      "text/plain": [
       "[4.5, 'str']"
      ]
     },
     "execution_count": 941,
     "metadata": {},
     "output_type": "execute_result"
    }
   ],
   "source": [
    "l4"
   ]
  },
  {
   "cell_type": "code",
   "execution_count": 943,
   "id": "58405fc2-0d7b-46a6-9ab9-db44a853130c",
   "metadata": {},
   "outputs": [
    {
     "data": {
      "text/plain": [
       "[4.5, 'str', 'sk']"
      ]
     },
     "execution_count": 943,
     "metadata": {},
     "output_type": "execute_result"
    }
   ],
   "source": [
    "l4.append(\"sk\")\n",
    "l4"
   ]
  },
  {
   "cell_type": "code",
   "execution_count": 945,
   "id": "f986b84c-8c38-4f45-80bb-803e2fe2207b",
   "metadata": {},
   "outputs": [
    {
     "ename": "TypeError",
     "evalue": "'<' not supported between instances of 'str' and 'float'",
     "output_type": "error",
     "traceback": [
      "\u001b[1;31m---------------------------------------------------------------------------\u001b[0m",
      "\u001b[1;31mTypeError\u001b[0m                                 Traceback (most recent call last)",
      "Cell \u001b[1;32mIn[945], line 1\u001b[0m\n\u001b[1;32m----> 1\u001b[0m l4\u001b[38;5;241m.\u001b[39msort()\n\u001b[0;32m      2\u001b[0m l4\n",
      "\u001b[1;31mTypeError\u001b[0m: '<' not supported between instances of 'str' and 'float'"
     ]
    }
   ],
   "source": [
    "l4.sort()\n",
    "l4"
   ]
  },
  {
   "cell_type": "code",
   "execution_count": 947,
   "id": "dad2a2c1-2566-4094-b5e0-c1c68be73258",
   "metadata": {},
   "outputs": [
    {
     "data": {
      "text/plain": [
       "['str', True]"
      ]
     },
     "execution_count": 947,
     "metadata": {},
     "output_type": "execute_result"
    }
   ],
   "source": [
    "l8=[\"str\",True]\n",
    "l8"
   ]
  },
  {
   "cell_type": "code",
   "execution_count": 949,
   "id": "7a86a7f9-ba27-4879-8813-364f83177471",
   "metadata": {},
   "outputs": [
    {
     "ename": "TypeError",
     "evalue": "'<' not supported between instances of 'bool' and 'str'",
     "output_type": "error",
     "traceback": [
      "\u001b[1;31m---------------------------------------------------------------------------\u001b[0m",
      "\u001b[1;31mTypeError\u001b[0m                                 Traceback (most recent call last)",
      "Cell \u001b[1;32mIn[949], line 1\u001b[0m\n\u001b[1;32m----> 1\u001b[0m l8\u001b[38;5;241m.\u001b[39msort()\n\u001b[0;32m      2\u001b[0m l8\n",
      "\u001b[1;31mTypeError\u001b[0m: '<' not supported between instances of 'bool' and 'str'"
     ]
    }
   ],
   "source": [
    "l8.sort()\n",
    "l8"
   ]
  },
  {
   "cell_type": "code",
   "execution_count": 951,
   "id": "0325541b-c531-4917-a3d5-c2270bc35610",
   "metadata": {},
   "outputs": [
    {
     "data": {
      "text/plain": [
       "[40, 30, 30, 20, 20, 10, 10, 10, 2.3]"
      ]
     },
     "execution_count": 951,
     "metadata": {},
     "output_type": "execute_result"
    }
   ],
   "source": [
    "l"
   ]
  },
  {
   "cell_type": "code",
   "execution_count": 953,
   "id": "ecd19856-7df6-4a96-b9cf-9ec49af04f82",
   "metadata": {},
   "outputs": [
    {
     "data": {
      "text/plain": [
       "[2.3, 10, 10, 10, 20, 20, 30, 30, 40]"
      ]
     },
     "execution_count": 953,
     "metadata": {},
     "output_type": "execute_result"
    }
   ],
   "source": [
    "l.reverse()\n",
    "l\n"
   ]
  },
  {
   "cell_type": "code",
   "execution_count": 955,
   "id": "1ccf7670-2e65-450d-b4d0-42ea1b11eb8a",
   "metadata": {},
   "outputs": [
    {
     "data": {
      "text/plain": [
       "[2.3, 10, 10, 10, 20, 20, 30, 30, 40]"
      ]
     },
     "execution_count": 955,
     "metadata": {},
     "output_type": "execute_result"
    }
   ],
   "source": [
    "l"
   ]
  },
  {
   "cell_type": "code",
   "execution_count": 957,
   "id": "4aa9d153-e9b1-43fb-8f62-be7eaeb193d0",
   "metadata": {},
   "outputs": [
    {
     "data": {
      "text/plain": [
       "[40, 30, 30, 20, 20, 10, 10, 10, 2.3]"
      ]
     },
     "execution_count": 957,
     "metadata": {},
     "output_type": "execute_result"
    }
   ],
   "source": [
    "l[::-1] #reverse the elements cause of double slicing.\n",
    "        #don't print l again"
   ]
  },
  {
   "cell_type": "code",
   "execution_count": 959,
   "id": "d86bfddb-2ca2-4fbb-a5fa-eab2e9e4a110",
   "metadata": {},
   "outputs": [
    {
     "name": "stdout",
     "output_type": "stream",
     "text": [
      "[2.3, 10, 10, 10, 20, 20, 30, 30, 40]\n",
      "[True, 2.3, 10, 20, 30, 40]\n",
      "[2.3, 10, 20, 30, 40]\n"
     ]
    }
   ],
   "source": [
    "print(l)\n",
    "print(l1)\n",
    "print(l2)"
   ]
  },
  {
   "cell_type": "markdown",
   "id": "e0fa37a4-a107-4fb1-90b7-8a375f7a05ef",
   "metadata": {},
   "source": [
    "# STRING LIST SLICING"
   ]
  },
  {
   "cell_type": "code",
   "execution_count": 962,
   "id": "d2001d80-a5db-4483-b3c7-2f38ba603de3",
   "metadata": {},
   "outputs": [
    {
     "data": {
      "text/plain": [
       "'ska'"
      ]
     },
     "execution_count": 962,
     "metadata": {},
     "output_type": "execute_result"
    }
   ],
   "source": [
    "s1=\"ska\"\n",
    "s1"
   ]
  },
  {
   "cell_type": "code",
   "execution_count": 964,
   "id": "64f86524-9e00-4f65-8c73-c3bc6e35d677",
   "metadata": {},
   "outputs": [
    {
     "data": {
      "text/plain": [
       "'s'"
      ]
     },
     "execution_count": 964,
     "metadata": {},
     "output_type": "execute_result"
    }
   ],
   "source": [
    "s1[0]"
   ]
  },
  {
   "cell_type": "code",
   "execution_count": 966,
   "id": "05193ce6-d5b9-43cd-9093-88c6d0506fef",
   "metadata": {},
   "outputs": [
    {
     "data": {
      "text/plain": [
       "'k'"
      ]
     },
     "execution_count": 966,
     "metadata": {},
     "output_type": "execute_result"
    }
   ],
   "source": [
    "s1[1]"
   ]
  },
  {
   "cell_type": "code",
   "execution_count": 968,
   "id": "c33cc07b-47a9-4ab0-9031-bc66caf8e8e9",
   "metadata": {},
   "outputs": [
    {
     "data": {
      "text/plain": [
       "'a'"
      ]
     },
     "execution_count": 968,
     "metadata": {},
     "output_type": "execute_result"
    }
   ],
   "source": [
    "s1[2]"
   ]
  },
  {
   "cell_type": "code",
   "execution_count": 970,
   "id": "32c6cd28-deec-4789-b593-1baaba5b783f",
   "metadata": {},
   "outputs": [
    {
     "ename": "IndexError",
     "evalue": "string index out of range",
     "output_type": "error",
     "traceback": [
      "\u001b[1;31m---------------------------------------------------------------------------\u001b[0m",
      "\u001b[1;31mIndexError\u001b[0m                                Traceback (most recent call last)",
      "Cell \u001b[1;32mIn[970], line 1\u001b[0m\n\u001b[1;32m----> 1\u001b[0m s1[\u001b[38;5;241m3\u001b[39m]\n",
      "\u001b[1;31mIndexError\u001b[0m: string index out of range"
     ]
    }
   ],
   "source": [
    "s1[3]"
   ]
  },
  {
   "cell_type": "code",
   "execution_count": 972,
   "id": "73fc8b7c-b414-4e0c-a028-a45e072a09af",
   "metadata": {},
   "outputs": [
    {
     "data": {
      "text/plain": [
       "'ska'"
      ]
     },
     "execution_count": 972,
     "metadata": {},
     "output_type": "execute_result"
    }
   ],
   "source": [
    "s1"
   ]
  },
  {
   "cell_type": "code",
   "execution_count": 974,
   "id": "b0a7c59d-5822-4d9f-8b4f-0565199b327e",
   "metadata": {},
   "outputs": [
    {
     "name": "stdout",
     "output_type": "stream",
     "text": [
      "s\n",
      "k\n",
      "a\n"
     ]
    }
   ],
   "source": [
    "for i in s1:#fool loop\n",
    "    print(i)"
   ]
  },
  {
   "cell_type": "code",
   "execution_count": 976,
   "id": "deebf207-c9fb-48d6-b93d-dd6d14021a48",
   "metadata": {},
   "outputs": [
    {
     "data": {
      "text/plain": [
       "'ska'"
      ]
     },
     "execution_count": 976,
     "metadata": {},
     "output_type": "execute_result"
    }
   ],
   "source": [
    "s1"
   ]
  },
  {
   "cell_type": "markdown",
   "id": "5047f9a6-d81e-4598-9041-18930e68b627",
   "metadata": {},
   "source": [
    "# List Slicing"
   ]
  },
  {
   "cell_type": "code",
   "execution_count": 979,
   "id": "4221f95e-0d53-4fa2-877a-8c59a543a2e8",
   "metadata": {},
   "outputs": [
    {
     "name": "stdout",
     "output_type": "stream",
     "text": [
      "[2.3, 10, 10, 10, 20, 20, 30, 30, 40]\n"
     ]
    }
   ],
   "source": [
    "print(l)"
   ]
  },
  {
   "cell_type": "code",
   "execution_count": 981,
   "id": "17b912db-0725-43e8-87a8-1db136906b53",
   "metadata": {},
   "outputs": [
    {
     "data": {
      "text/plain": [
       "[2.3, 10, 10, 10, 20, 20, 30, 30, 40]"
      ]
     },
     "execution_count": 981,
     "metadata": {},
     "output_type": "execute_result"
    }
   ],
   "source": [
    "l[:]#empty slicing, by default give entire element.\n"
   ]
  },
  {
   "cell_type": "code",
   "execution_count": 983,
   "id": "d56a82ce-983b-4367-85f8-b84697b24fd8",
   "metadata": {},
   "outputs": [
    {
     "data": {
      "text/plain": [
       "[2.3]"
      ]
     },
     "execution_count": 983,
     "metadata": {},
     "output_type": "execute_result"
    }
   ],
   "source": [
    "l[:1]\n"
   ]
  },
  {
   "cell_type": "code",
   "execution_count": 985,
   "id": "1554e5d6-3cbb-4dcd-893c-6bbabfa106d3",
   "metadata": {},
   "outputs": [
    {
     "data": {
      "text/plain": [
       "[40]"
      ]
     },
     "execution_count": 985,
     "metadata": {},
     "output_type": "execute_result"
    }
   ],
   "source": [
    "l[-1:]\n"
   ]
  },
  {
   "cell_type": "code",
   "execution_count": 987,
   "id": "af4302d3-9124-4302-a72e-96b5a3cbed55",
   "metadata": {},
   "outputs": [
    {
     "data": {
      "text/plain": [
       "[2.3, 10, 10, 10, 20, 20, 30, 30, 40]"
      ]
     },
     "execution_count": 987,
     "metadata": {},
     "output_type": "execute_result"
    }
   ],
   "source": [
    "l"
   ]
  },
  {
   "cell_type": "code",
   "execution_count": 989,
   "id": "f87c5d4e-7774-4b8f-a825-f7916e00d7d7",
   "metadata": {},
   "outputs": [
    {
     "data": {
      "text/plain": [
       "[2.3, 10, 10]"
      ]
     },
     "execution_count": 989,
     "metadata": {},
     "output_type": "execute_result"
    }
   ],
   "source": [
    "l[:3]"
   ]
  },
  {
   "cell_type": "code",
   "execution_count": 991,
   "id": "50ef55ec-e255-4498-839e-36094a7f4bde",
   "metadata": {},
   "outputs": [
    {
     "data": {
      "text/plain": [
       "[2.3, 10, 10, 10, 20, 20]"
      ]
     },
     "execution_count": 991,
     "metadata": {},
     "output_type": "execute_result"
    }
   ],
   "source": [
    "l[:-3]"
   ]
  },
  {
   "cell_type": "code",
   "execution_count": 993,
   "id": "8580909d-95b6-40f2-bbbc-706565e406ed",
   "metadata": {},
   "outputs": [
    {
     "data": {
      "text/plain": [
       "[2.3, 10, 10, 10, 20, 20, 30, 30, 40]"
      ]
     },
     "execution_count": 993,
     "metadata": {},
     "output_type": "execute_result"
    }
   ],
   "source": [
    "l[0:]"
   ]
  },
  {
   "cell_type": "code",
   "execution_count": 995,
   "id": "9aa992d7-e382-45f3-a0a6-bdcf0f852716",
   "metadata": {},
   "outputs": [
    {
     "data": {
      "text/plain": [
       "[]"
      ]
     },
     "execution_count": 995,
     "metadata": {},
     "output_type": "execute_result"
    }
   ],
   "source": [
    "l[-1:0]#empty "
   ]
  },
  {
   "cell_type": "code",
   "execution_count": 997,
   "id": "e7eb08e0-e401-464e-8f20-0eeea8f26477",
   "metadata": {},
   "outputs": [
    {
     "data": {
      "text/plain": [
       "[30, 30, 40]"
      ]
     },
     "execution_count": 997,
     "metadata": {},
     "output_type": "execute_result"
    }
   ],
   "source": [
    "l[-3:]"
   ]
  },
  {
   "cell_type": "code",
   "execution_count": 999,
   "id": "f87c4106-73ba-4989-8e48-eb17fbf636f1",
   "metadata": {},
   "outputs": [
    {
     "data": {
      "text/plain": [
       "[20, 30, 40, 50]"
      ]
     },
     "execution_count": 999,
     "metadata": {},
     "output_type": "execute_result"
    }
   ],
   "source": [
    "d1=[20,30,40,50]\n",
    "d1"
   ]
  },
  {
   "cell_type": "code",
   "execution_count": 1001,
   "id": "a241ad57-1975-4677-a7cf-be5798b4b216",
   "metadata": {},
   "outputs": [
    {
     "data": {
      "text/plain": [
       "[20, 30, 40]"
      ]
     },
     "execution_count": 1001,
     "metadata": {},
     "output_type": "execute_result"
    }
   ],
   "source": [
    "d1[:-1]"
   ]
  },
  {
   "cell_type": "code",
   "execution_count": 1003,
   "id": "430a48a8-28b4-40b7-9378-95a8ec8917d3",
   "metadata": {},
   "outputs": [
    {
     "data": {
      "text/plain": [
       "[2.3, 10, 10, 10, 20, 20, 30, 30, 40]"
      ]
     },
     "execution_count": 1003,
     "metadata": {},
     "output_type": "execute_result"
    }
   ],
   "source": [
    "l"
   ]
  },
  {
   "cell_type": "code",
   "execution_count": 1005,
   "id": "76556472-3809-44b2-8e21-cc992a5fcada",
   "metadata": {},
   "outputs": [
    {
     "data": {
      "text/plain": [
       "[2.3, 10, 10, 10, 20, 20]"
      ]
     },
     "execution_count": 1005,
     "metadata": {},
     "output_type": "execute_result"
    }
   ],
   "source": [
    "l[:-3]#"
   ]
  },
  {
   "cell_type": "code",
   "execution_count": 1007,
   "id": "65b621ae-024f-4deb-9b07-dfac2e7e6323",
   "metadata": {},
   "outputs": [
    {
     "data": {
      "text/plain": [
       "[2.3, 10, 10, 10, 20, 20, 30, 30, 40]"
      ]
     },
     "execution_count": 1007,
     "metadata": {},
     "output_type": "execute_result"
    }
   ],
   "source": [
    "l"
   ]
  },
  {
   "cell_type": "code",
   "execution_count": 1009,
   "id": "96b7a8fc-06e3-4da9-a3fa-565c14118d7f",
   "metadata": {},
   "outputs": [
    {
     "data": {
      "text/plain": [
       "[2.3, 10, 20, 30, 40]"
      ]
     },
     "execution_count": 1009,
     "metadata": {},
     "output_type": "execute_result"
    }
   ],
   "source": [
    "l[::2]#start,stop,step index"
   ]
  },
  {
   "cell_type": "code",
   "execution_count": 1011,
   "id": "c5efe7fd-5e62-4f05-8e84-90eac84e791f",
   "metadata": {},
   "outputs": [
    {
     "data": {
      "text/plain": [
       "[2.3, 10, 10, 10, 20, 20, 30, 30, 40]"
      ]
     },
     "execution_count": 1011,
     "metadata": {},
     "output_type": "execute_result"
    }
   ],
   "source": [
    "l"
   ]
  },
  {
   "cell_type": "code",
   "execution_count": 1013,
   "id": "7b9affb2-1bc2-4981-932a-34b432ba9561",
   "metadata": {},
   "outputs": [
    {
     "data": {
      "text/plain": [
       "[2.3, 10, 10, 10, 20, 20, 30, 30, 40]"
      ]
     },
     "execution_count": 1013,
     "metadata": {},
     "output_type": "execute_result"
    }
   ],
   "source": [
    "l"
   ]
  },
  {
   "cell_type": "code",
   "execution_count": 1015,
   "id": "2b55d38e-5b34-43dd-841f-ac90aa6aa969",
   "metadata": {},
   "outputs": [
    {
     "data": {
      "text/plain": [
       "[2.3, 10]"
      ]
     },
     "execution_count": 1015,
     "metadata": {},
     "output_type": "execute_result"
    }
   ],
   "source": [
    "l[0:3:2]"
   ]
  },
  {
   "cell_type": "code",
   "execution_count": 1017,
   "id": "955a208c-5730-4618-9428-936edf84796f",
   "metadata": {},
   "outputs": [
    {
     "data": {
      "text/plain": [
       "[2.3, 10, 10, 10, 20, 20, 30, 30, 40]"
      ]
     },
     "execution_count": 1017,
     "metadata": {},
     "output_type": "execute_result"
    }
   ],
   "source": [
    "l"
   ]
  },
  {
   "cell_type": "code",
   "execution_count": 1019,
   "id": "67c149fd-7a60-4e8d-ba9b-f4fc770303be",
   "metadata": {},
   "outputs": [
    {
     "data": {
      "text/plain": [
       "[2.3, 10]"
      ]
     },
     "execution_count": 1019,
     "metadata": {},
     "output_type": "execute_result"
    }
   ],
   "source": [
    "l[0:4:2]"
   ]
  },
  {
   "cell_type": "code",
   "execution_count": 1021,
   "id": "2f7c7634-ebcb-40b1-8cbd-8b01e14ce4b7",
   "metadata": {},
   "outputs": [
    {
     "data": {
      "text/plain": [
       "[2.3, 10, 10, 10, 20, 20, 30, 30, 40]"
      ]
     },
     "execution_count": 1021,
     "metadata": {},
     "output_type": "execute_result"
    }
   ],
   "source": [
    "l"
   ]
  },
  {
   "cell_type": "code",
   "execution_count": 1023,
   "id": "09cca427-4475-474c-ae8a-7662e0fe9c58",
   "metadata": {},
   "outputs": [
    {
     "data": {
      "text/plain": [
       "[10, 10, 10, 20, 20, 30, 30, 40]"
      ]
     },
     "execution_count": 1023,
     "metadata": {},
     "output_type": "execute_result"
    }
   ],
   "source": [
    "l[1::]"
   ]
  },
  {
   "cell_type": "code",
   "execution_count": 1025,
   "id": "b905a55f-61ca-43ee-b91e-b0468fc54dc5",
   "metadata": {},
   "outputs": [
    {
     "data": {
      "text/plain": [
       "[2.3, 10, 10, 10, 20, 20, 30, 30, 40]"
      ]
     },
     "execution_count": 1025,
     "metadata": {},
     "output_type": "execute_result"
    }
   ],
   "source": [
    "l"
   ]
  },
  {
   "cell_type": "code",
   "execution_count": 1027,
   "id": "5d85ec04-90be-4a83-b205-1d1c9b00e0d5",
   "metadata": {},
   "outputs": [
    {
     "data": {
      "text/plain": [
       "[40, 30, 20, 10, 2.3]"
      ]
     },
     "execution_count": 1027,
     "metadata": {},
     "output_type": "execute_result"
    }
   ],
   "source": [
    "l[::-2]"
   ]
  },
  {
   "cell_type": "code",
   "execution_count": 1029,
   "id": "1b909465-5311-4483-afb8-dde9f469b836",
   "metadata": {},
   "outputs": [
    {
     "data": {
      "text/plain": [
       "9"
      ]
     },
     "execution_count": 1029,
     "metadata": {},
     "output_type": "execute_result"
    }
   ],
   "source": [
    "len(l)"
   ]
  },
  {
   "cell_type": "code",
   "execution_count": 1031,
   "id": "074e0f4d-a170-4ec2-8fc6-e327f23d16a1",
   "metadata": {},
   "outputs": [
    {
     "data": {
      "text/plain": [
       "[2.3, 10, 10, 10, 20, 20, 30, 30, 40]"
      ]
     },
     "execution_count": 1031,
     "metadata": {},
     "output_type": "execute_result"
    }
   ],
   "source": [
    "l"
   ]
  },
  {
   "cell_type": "code",
   "execution_count": 1033,
   "id": "1a391472-0f73-47d9-bda9-65d1ccd767f6",
   "metadata": {},
   "outputs": [
    {
     "data": {
      "text/plain": [
       "2.3"
      ]
     },
     "execution_count": 1033,
     "metadata": {},
     "output_type": "execute_result"
    }
   ],
   "source": [
    "l[0]"
   ]
  },
  {
   "cell_type": "code",
   "execution_count": 1035,
   "id": "4bd9f548-60e3-4860-9af8-322ad69caa78",
   "metadata": {},
   "outputs": [
    {
     "data": {
      "text/plain": [
       "10"
      ]
     },
     "execution_count": 1035,
     "metadata": {},
     "output_type": "execute_result"
    }
   ],
   "source": [
    "l[3]"
   ]
  },
  {
   "cell_type": "code",
   "execution_count": 1037,
   "id": "73cf88c1-4abb-4cc9-a6b1-8a4b26bedd39",
   "metadata": {},
   "outputs": [
    {
     "data": {
      "text/plain": [
       "[10]"
      ]
     },
     "execution_count": 1037,
     "metadata": {},
     "output_type": "execute_result"
    }
   ],
   "source": [
    "l[2:3]"
   ]
  },
  {
   "cell_type": "code",
   "execution_count": 1039,
   "id": "01aa9cbd-bc5f-4653-a90c-1201088b7d06",
   "metadata": {},
   "outputs": [
    {
     "data": {
      "text/plain": [
       "[2.3, 10, 10, 10, 20, 20, 30, 30, 40]"
      ]
     },
     "execution_count": 1039,
     "metadata": {},
     "output_type": "execute_result"
    }
   ],
   "source": [
    "l"
   ]
  },
  {
   "cell_type": "code",
   "execution_count": 1041,
   "id": "2f5faaed-0356-4e8e-b84a-9e9c8a1fdf48",
   "metadata": {},
   "outputs": [
    {
     "data": {
      "text/plain": [
       "[2.3, 10, 20, 30, 40]"
      ]
     },
     "execution_count": 1041,
     "metadata": {},
     "output_type": "execute_result"
    }
   ],
   "source": [
    "l[0::2]"
   ]
  },
  {
   "cell_type": "code",
   "execution_count": 1043,
   "id": "1eaf8b76-4c42-478b-b465-623e3968f5cf",
   "metadata": {},
   "outputs": [
    {
     "data": {
      "text/plain": [
       "[2.3, 10]"
      ]
     },
     "execution_count": 1043,
     "metadata": {},
     "output_type": "execute_result"
    }
   ],
   "source": [
    "l[:4:2]"
   ]
  },
  {
   "cell_type": "code",
   "execution_count": 1045,
   "id": "417eef7b-2ca8-4aba-900d-5515d80e5d74",
   "metadata": {},
   "outputs": [
    {
     "data": {
      "text/plain": [
       "[2.3, 10, 10, 10, 20, 20, 30, 30, 40]"
      ]
     },
     "execution_count": 1045,
     "metadata": {},
     "output_type": "execute_result"
    }
   ],
   "source": [
    "l"
   ]
  },
  {
   "cell_type": "code",
   "execution_count": 1047,
   "id": "d6972241-329d-477f-acce-4d18cb1298aa",
   "metadata": {},
   "outputs": [
    {
     "data": {
      "text/plain": [
       "[10, 10, 20, 30]"
      ]
     },
     "execution_count": 1047,
     "metadata": {},
     "output_type": "execute_result"
    }
   ],
   "source": [
    "l[1::2]"
   ]
  },
  {
   "cell_type": "code",
   "execution_count": 1049,
   "id": "ad050acc-0519-4aa4-bfa8-621df4a1d474",
   "metadata": {},
   "outputs": [
    {
     "data": {
      "text/plain": [
       "[2.3, 10, 10, 10, 20, 20, 30, 30, 40]"
      ]
     },
     "execution_count": 1049,
     "metadata": {},
     "output_type": "execute_result"
    }
   ],
   "source": [
    "l"
   ]
  },
  {
   "cell_type": "code",
   "execution_count": 1051,
   "id": "c2284ccf-f03c-4098-965e-f739f76ecb99",
   "metadata": {},
   "outputs": [
    {
     "data": {
      "text/plain": [
       "[2.3, 10, 20, 30, 40]"
      ]
     },
     "execution_count": 1051,
     "metadata": {},
     "output_type": "execute_result"
    }
   ],
   "source": [
    "l[::2]"
   ]
  },
  {
   "cell_type": "code",
   "execution_count": 1053,
   "id": "9a0ddc07-b9ed-4a87-bd19-3e8c87a9c8c6",
   "metadata": {},
   "outputs": [
    {
     "data": {
      "text/plain": [
       "[2.3, 10, 10, 10, 20, 20, 30, 30, 40]"
      ]
     },
     "execution_count": 1053,
     "metadata": {},
     "output_type": "execute_result"
    }
   ],
   "source": [
    "l"
   ]
  },
  {
   "cell_type": "code",
   "execution_count": 1055,
   "id": "187a28f3-62ec-44e4-adf8-c889816b3884",
   "metadata": {},
   "outputs": [
    {
     "data": {
      "text/plain": [
       "[2.3, 10, 10, 10, 20, 20, 30, 30]"
      ]
     },
     "execution_count": 1055,
     "metadata": {},
     "output_type": "execute_result"
    }
   ],
   "source": [
    "l[:-1]"
   ]
  },
  {
   "cell_type": "code",
   "execution_count": 1057,
   "id": "6614b559-a4f7-4896-b580-3c76590f2bad",
   "metadata": {},
   "outputs": [
    {
     "data": {
      "text/plain": [
       "[2.3, 10, 20, 30]"
      ]
     },
     "execution_count": 1057,
     "metadata": {},
     "output_type": "execute_result"
    }
   ],
   "source": [
    "l[:-1:2]#start index not mention\n",
    "        #so by default it start from first element."
   ]
  },
  {
   "cell_type": "code",
   "execution_count": 1059,
   "id": "6fb82458-da83-479d-b839-df39a5382035",
   "metadata": {},
   "outputs": [
    {
     "data": {
      "text/plain": [
       "[2.3, 10, 10, 10, 20, 20, 30, 30, 40]"
      ]
     },
     "execution_count": 1059,
     "metadata": {},
     "output_type": "execute_result"
    }
   ],
   "source": [
    "l"
   ]
  },
  {
   "cell_type": "code",
   "execution_count": 1061,
   "id": "451d0ad5-3e63-49ee-bbd9-e4e4312bd51e",
   "metadata": {},
   "outputs": [
    {
     "data": {
      "text/plain": [
       "[]"
      ]
     },
     "execution_count": 1061,
     "metadata": {},
     "output_type": "execute_result"
    }
   ],
   "source": [
    "l[:-1:-2]"
   ]
  },
  {
   "cell_type": "code",
   "execution_count": 1063,
   "id": "4da4baf3-651d-4a2c-be25-b805be157e87",
   "metadata": {},
   "outputs": [
    {
     "data": {
      "text/plain": [
       "[2.3, 10, 10, 10, 20, 20, 30, 30, 40]"
      ]
     },
     "execution_count": 1063,
     "metadata": {},
     "output_type": "execute_result"
    }
   ],
   "source": [
    "l"
   ]
  },
  {
   "cell_type": "code",
   "execution_count": 1065,
   "id": "65284951-50b4-48e8-acaf-ee06b1df1d2a",
   "metadata": {},
   "outputs": [
    {
     "data": {
      "text/plain": [
       "[2.3, 10, 10, 10, 20, 20]"
      ]
     },
     "execution_count": 1065,
     "metadata": {},
     "output_type": "execute_result"
    }
   ],
   "source": [
    "l[:-3:]"
   ]
  },
  {
   "cell_type": "code",
   "execution_count": 1067,
   "id": "59d0077e-ad1b-46af-8ea7-cce340b1548c",
   "metadata": {},
   "outputs": [
    {
     "data": {
      "text/plain": [
       "[2.3, 10, 10, 10, 20, 20, 30, 30, 40]"
      ]
     },
     "execution_count": 1067,
     "metadata": {},
     "output_type": "execute_result"
    }
   ],
   "source": [
    "l"
   ]
  },
  {
   "cell_type": "code",
   "execution_count": 1069,
   "id": "a2d40d37-4dda-4585-973b-4dc54feac065",
   "metadata": {},
   "outputs": [
    {
     "data": {
      "text/plain": [
       "[40]"
      ]
     },
     "execution_count": 1069,
     "metadata": {},
     "output_type": "execute_result"
    }
   ],
   "source": [
    "l[-1::]"
   ]
  },
  {
   "cell_type": "code",
   "execution_count": 1071,
   "id": "7bdf3ea8-be31-4cec-8389-092d03e3858b",
   "metadata": {},
   "outputs": [
    {
     "data": {
      "text/plain": [
       "[2.3, 10, 10, 10, 20, 20, 30, 30, 40]"
      ]
     },
     "execution_count": 1071,
     "metadata": {},
     "output_type": "execute_result"
    }
   ],
   "source": [
    "l"
   ]
  },
  {
   "cell_type": "code",
   "execution_count": 1073,
   "id": "8762e79f-31b6-47f7-b00b-1a5c9c372cf7",
   "metadata": {},
   "outputs": [
    {
     "data": {
      "text/plain": [
       "[10, 30]"
      ]
     },
     "execution_count": 1073,
     "metadata": {},
     "output_type": "execute_result"
    }
   ],
   "source": [
    "l[1::5]"
   ]
  },
  {
   "cell_type": "code",
   "execution_count": 1082,
   "id": "c45b5a19-fdd7-4985-9169-017864af20d3",
   "metadata": {},
   "outputs": [
    {
     "data": {
      "text/plain": [
       "[2.3, 10, 10, 10, 20, 20, 30, 30, 40]"
      ]
     },
     "execution_count": 1082,
     "metadata": {},
     "output_type": "execute_result"
    }
   ],
   "source": [
    "l"
   ]
  },
  {
   "cell_type": "code",
   "execution_count": 1084,
   "id": "5dd19499-86d7-40f4-aa4d-c12f09f67669",
   "metadata": {},
   "outputs": [
    {
     "data": {
      "text/plain": [
       "[2.3, 10, 20, 30, 40]"
      ]
     },
     "execution_count": 1084,
     "metadata": {},
     "output_type": "execute_result"
    }
   ],
   "source": [
    "l[::2]"
   ]
  },
  {
   "cell_type": "code",
   "execution_count": 1086,
   "id": "07040602-1c78-451f-992a-bacca2d3ae4d",
   "metadata": {},
   "outputs": [
    {
     "data": {
      "text/plain": [
       "[10, 10, 20, 30]"
      ]
     },
     "execution_count": 1086,
     "metadata": {},
     "output_type": "execute_result"
    }
   ],
   "source": [
    "l[1::2]"
   ]
  },
  {
   "cell_type": "code",
   "execution_count": 1088,
   "id": "88698edf-dd77-424c-9535-431a60dc2b6a",
   "metadata": {},
   "outputs": [
    {
     "data": {
      "text/plain": [
       "[2.3, 10, 10, 10]"
      ]
     },
     "execution_count": 1088,
     "metadata": {},
     "output_type": "execute_result"
    }
   ],
   "source": [
    "l[:4:]"
   ]
  },
  {
   "cell_type": "code",
   "execution_count": 1090,
   "id": "54ebaec4-d2db-464c-bb5c-b14a1bb3a0f8",
   "metadata": {},
   "outputs": [
    {
     "data": {
      "text/plain": [
       "[10, 10, 10, 20, 20, 30, 30, 40]"
      ]
     },
     "execution_count": 1090,
     "metadata": {},
     "output_type": "execute_result"
    }
   ],
   "source": [
    "l[1::1]"
   ]
  },
  {
   "cell_type": "code",
   "execution_count": 1094,
   "id": "0a76dde1-0d9f-4c6b-a6d8-9e6096e29e05",
   "metadata": {},
   "outputs": [
    {
     "data": {
      "text/plain": [
       "[10]"
      ]
     },
     "execution_count": 1094,
     "metadata": {},
     "output_type": "execute_result"
    }
   ],
   "source": [
    "l[1::-5]"
   ]
  },
  {
   "cell_type": "code",
   "execution_count": 1096,
   "id": "5904b4ed-06bb-4bc6-9428-73e4aaa0ba8d",
   "metadata": {},
   "outputs": [
    {
     "data": {
      "text/plain": [
       "[2.3, 10, 10, 10, 20, 20, 30, 30, 40]"
      ]
     },
     "execution_count": 1096,
     "metadata": {},
     "output_type": "execute_result"
    }
   ],
   "source": [
    "l"
   ]
  },
  {
   "cell_type": "code",
   "execution_count": 1098,
   "id": "d4d92e86-2d05-452d-8b38-ccf48a0aa775",
   "metadata": {},
   "outputs": [
    {
     "data": {
      "text/plain": [
       "[2.3, 10, 20, 30]"
      ]
     },
     "execution_count": 1098,
     "metadata": {},
     "output_type": "execute_result"
    }
   ],
   "source": [
    "l[:-1:2]"
   ]
  },
  {
   "cell_type": "code",
   "execution_count": 1100,
   "id": "8538b8a1-7ff6-49b7-b821-c4a3d7744011",
   "metadata": {},
   "outputs": [
    {
     "data": {
      "text/plain": [
       "[]"
      ]
     },
     "execution_count": 1100,
     "metadata": {},
     "output_type": "execute_result"
    }
   ],
   "source": [
    "l[:-1:-2]"
   ]
  },
  {
   "cell_type": "code",
   "execution_count": 1104,
   "id": "dd77737d-d440-407c-b2b7-cf0716e75e08",
   "metadata": {},
   "outputs": [
    {
     "data": {
      "text/plain": [
       "[40, 20]"
      ]
     },
     "execution_count": 1104,
     "metadata": {},
     "output_type": "execute_result"
    }
   ],
   "source": [
    "l[-1:0:-4]"
   ]
  },
  {
   "cell_type": "code",
   "execution_count": 1106,
   "id": "821aa7c1-5583-48df-85bd-9c2e4067179b",
   "metadata": {},
   "outputs": [
    {
     "data": {
      "text/plain": [
       "[2.3]"
      ]
     },
     "execution_count": 1106,
     "metadata": {},
     "output_type": "execute_result"
    }
   ],
   "source": [
    "l[0::-1]"
   ]
  },
  {
   "cell_type": "code",
   "execution_count": 1108,
   "id": "3eb09a58-889b-47b3-8ac5-53b58054c54c",
   "metadata": {},
   "outputs": [
    {
     "data": {
      "text/plain": [
       "[2.3, 10, 10, 10, 20, 20, 30, 30, 40]"
      ]
     },
     "execution_count": 1108,
     "metadata": {},
     "output_type": "execute_result"
    }
   ],
   "source": [
    "l"
   ]
  },
  {
   "cell_type": "code",
   "execution_count": 1110,
   "id": "2296e7ef-40e0-4414-b87f-92337fcbbf38",
   "metadata": {},
   "outputs": [
    {
     "data": {
      "text/plain": [
       "[True, 2.3, 10, 20, 30, 40]"
      ]
     },
     "execution_count": 1110,
     "metadata": {},
     "output_type": "execute_result"
    }
   ],
   "source": [
    "l1"
   ]
  },
  {
   "cell_type": "code",
   "execution_count": 1126,
   "id": "94d1a60f-e781-432b-a41a-5d5f2b6df0f0",
   "metadata": {},
   "outputs": [],
   "source": [
    "l1[-1]=\"sk\""
   ]
  },
  {
   "cell_type": "code",
   "execution_count": 1120,
   "id": "29647529-99dd-4769-aaeb-1a82117e3381",
   "metadata": {},
   "outputs": [
    {
     "data": {
      "text/plain": [
       "[True, 2.3, 10, 20, 30, 40]"
      ]
     },
     "execution_count": 1120,
     "metadata": {},
     "output_type": "execute_result"
    }
   ],
   "source": [
    "l1"
   ]
  },
  {
   "cell_type": "code",
   "execution_count": 1128,
   "id": "4af56cfd-a5e2-43a3-b70f-33a7e111abfa",
   "metadata": {},
   "outputs": [
    {
     "data": {
      "text/plain": [
       "'s'"
      ]
     },
     "execution_count": 1128,
     "metadata": {},
     "output_type": "execute_result"
    }
   ],
   "source": [
    "l1[-1][0]#nested slicing"
   ]
  },
  {
   "cell_type": "code",
   "execution_count": 1155,
   "id": "00a7a8e9-b90f-4d6f-a262-47428057db99",
   "metadata": {},
   "outputs": [
    {
     "name": "stdout",
     "output_type": "stream",
     "text": [
      "s\n",
      "k\n"
     ]
    }
   ],
   "source": [
    "print(l1[-1][0])\n",
    "print(l1[-1][1])"
   ]
  },
  {
   "cell_type": "code",
   "execution_count": 1157,
   "id": "47d3ebeb-4892-4e30-bf54-6d5960fb9938",
   "metadata": {},
   "outputs": [
    {
     "data": {
      "text/plain": [
       "[True, 2.3, 10, 20, 30, 'sk']"
      ]
     },
     "execution_count": 1157,
     "metadata": {},
     "output_type": "execute_result"
    }
   ],
   "source": [
    "l1"
   ]
  },
  {
   "cell_type": "code",
   "execution_count": 1159,
   "id": "a6c34d45-e90c-478e-8c94-ee506a4780e3",
   "metadata": {},
   "outputs": [
    {
     "data": {
      "text/plain": [
       "[2.3, 10, 20, 30, 40]"
      ]
     },
     "execution_count": 1159,
     "metadata": {},
     "output_type": "execute_result"
    }
   ],
   "source": [
    "l2"
   ]
  },
  {
   "cell_type": "code",
   "execution_count": 1165,
   "id": "e86b0ea3-d0fe-49cc-9b2f-b316e88099df",
   "metadata": {},
   "outputs": [
    {
     "data": {
      "text/plain": [
       "5"
      ]
     },
     "execution_count": 1165,
     "metadata": {},
     "output_type": "execute_result"
    }
   ],
   "source": [
    "len(l2)"
   ]
  },
  {
   "cell_type": "code",
   "execution_count": 1167,
   "id": "71b32dbe-0b5d-4324-9b61-2b3bddd2be55",
   "metadata": {},
   "outputs": [
    {
     "data": {
      "text/plain": [
       "[100, 75, 40, 30, 5]"
      ]
     },
     "execution_count": 1167,
     "metadata": {},
     "output_type": "execute_result"
    }
   ],
   "source": [
    "l3"
   ]
  },
  {
   "cell_type": "code",
   "execution_count": 1173,
   "id": "f0cd987e-38d9-4385-b85f-60a3e28324e5",
   "metadata": {},
   "outputs": [],
   "source": [
    "l4=l2+l3"
   ]
  },
  {
   "cell_type": "code",
   "execution_count": 1175,
   "id": "4e480871-e635-41ab-b244-99bb94758e3b",
   "metadata": {},
   "outputs": [
    {
     "data": {
      "text/plain": [
       "[2.3, 10, 20, 30, 40, 100, 75, 40, 30, 5]"
      ]
     },
     "execution_count": 1175,
     "metadata": {},
     "output_type": "execute_result"
    }
   ],
   "source": [
    "l4"
   ]
  },
  {
   "cell_type": "markdown",
   "id": "26d618a8-464a-40c0-8038-2150caef8b34",
   "metadata": {},
   "source": [
    "### List Membership"
   ]
  },
  {
   "cell_type": "code",
   "execution_count": 1178,
   "id": "b289e10e-4db9-47ba-ae07-d9c052d61bdf",
   "metadata": {},
   "outputs": [
    {
     "data": {
      "text/plain": [
       "[2.3, 10, 20, 30, 40, 100, 75, 40, 30, 5]"
      ]
     },
     "execution_count": 1178,
     "metadata": {},
     "output_type": "execute_result"
    }
   ],
   "source": [
    "l4"
   ]
  },
  {
   "cell_type": "markdown",
   "id": "da345f55-7220-4175-8443-a5a2d3a0709e",
   "metadata": {},
   "source": [
    "# Enumerate"
   ]
  },
  {
   "cell_type": "code",
   "execution_count": 1182,
   "id": "383cc5e2-5bc3-45c9-83b6-6c75671cb3e7",
   "metadata": {},
   "outputs": [
    {
     "data": {
      "text/plain": [
       "[True, 2.3, 10, 20, 30, 'sk']"
      ]
     },
     "execution_count": 1182,
     "metadata": {},
     "output_type": "execute_result"
    }
   ],
   "source": [
    "l1"
   ]
  },
  {
   "cell_type": "code",
   "execution_count": 1184,
   "id": "5a124734-4e79-4164-a07b-49ce8eccecfa",
   "metadata": {},
   "outputs": [
    {
     "name": "stdout",
     "output_type": "stream",
     "text": [
      "True\n",
      "2.3\n",
      "10\n",
      "20\n",
      "30\n",
      "sk\n"
     ]
    }
   ],
   "source": [
    "for i in l1:\n",
    "    print(i)"
   ]
  },
  {
   "cell_type": "code",
   "execution_count": 1186,
   "id": "fcb23c00-ecfc-4432-b3e5-bc78ac68cbdb",
   "metadata": {},
   "outputs": [
    {
     "name": "stdout",
     "output_type": "stream",
     "text": [
      "(0, True)\n",
      "(1, 2.3)\n",
      "(2, 10)\n",
      "(3, 20)\n",
      "(4, 30)\n",
      "(5, 'sk')\n"
     ]
    }
   ],
   "source": [
    "for i in enumerate(l1):\n",
    "    print(i)"
   ]
  },
  {
   "cell_type": "code",
   "execution_count": 1188,
   "id": "65164b2f-8acb-40c6-b5d0-ca5179a190a6",
   "metadata": {},
   "outputs": [
    {
     "data": {
      "text/plain": [
       "[True, 2.3, 10, 20, 30, 'sk']"
      ]
     },
     "execution_count": 1188,
     "metadata": {},
     "output_type": "execute_result"
    }
   ],
   "source": [
    "l1"
   ]
  },
  {
   "cell_type": "code",
   "execution_count": 1190,
   "id": "416103cc-df08-40f8-839c-5e633d2c427d",
   "metadata": {},
   "outputs": [],
   "source": [
    "h1=[100,4,3]"
   ]
  },
  {
   "cell_type": "code",
   "execution_count": 1192,
   "id": "77de0cae-a19a-4afe-8740-4dc2f501c9c1",
   "metadata": {},
   "outputs": [
    {
     "data": {
      "text/plain": [
       "[100, 4, 3]"
      ]
     },
     "execution_count": 1192,
     "metadata": {},
     "output_type": "execute_result"
    }
   ],
   "source": [
    "h1"
   ]
  },
  {
   "cell_type": "code",
   "execution_count": 1194,
   "id": "bd41b56d-2693-444f-890b-656e351c2f2e",
   "metadata": {},
   "outputs": [
    {
     "data": {
      "text/plain": [
       "True"
      ]
     },
     "execution_count": 1194,
     "metadata": {},
     "output_type": "execute_result"
    }
   ],
   "source": [
    "all(l3)"
   ]
  },
  {
   "cell_type": "code",
   "execution_count": 1196,
   "id": "26ef3c10-fa41-4084-a8b9-00ad554d05cf",
   "metadata": {},
   "outputs": [],
   "source": [
    "h1.append(0)"
   ]
  },
  {
   "cell_type": "code",
   "execution_count": 1198,
   "id": "48aa7b71-f780-4c62-a4c5-ee4fc7632ed9",
   "metadata": {},
   "outputs": [
    {
     "data": {
      "text/plain": [
       "[100, 4, 3, 0]"
      ]
     },
     "execution_count": 1198,
     "metadata": {},
     "output_type": "execute_result"
    }
   ],
   "source": [
    "h1"
   ]
  },
  {
   "cell_type": "code",
   "execution_count": 1200,
   "id": "4386179e-803d-46c2-b9ff-d6033e8ebb84",
   "metadata": {},
   "outputs": [
    {
     "data": {
      "text/plain": [
       "False"
      ]
     },
     "execution_count": 1200,
     "metadata": {},
     "output_type": "execute_result"
    }
   ],
   "source": [
    "all(h1)#if list contain 0 then the output will be False"
   ]
  },
  {
   "cell_type": "code",
   "execution_count": 1202,
   "id": "2b0200aa-186c-4819-87c6-7def0425091d",
   "metadata": {},
   "outputs": [
    {
     "data": {
      "text/plain": [
       "True"
      ]
     },
     "execution_count": 1202,
     "metadata": {},
     "output_type": "execute_result"
    }
   ],
   "source": [
    "any(h1)#any() always give output True"
   ]
  },
  {
   "cell_type": "code",
   "execution_count": null,
   "id": "82f5ee47-676d-4ba1-b902-af47ce20e68a",
   "metadata": {},
   "outputs": [],
   "source": []
  }
 ],
 "metadata": {
  "kernelspec": {
   "display_name": "Python [conda env:base] *",
   "language": "python",
   "name": "conda-base-py"
  },
  "language_info": {
   "codemirror_mode": {
    "name": "ipython",
    "version": 3
   },
   "file_extension": ".py",
   "mimetype": "text/x-python",
   "name": "python",
   "nbconvert_exporter": "python",
   "pygments_lexer": "ipython3",
   "version": "3.12.7"
  }
 },
 "nbformat": 4,
 "nbformat_minor": 5
}

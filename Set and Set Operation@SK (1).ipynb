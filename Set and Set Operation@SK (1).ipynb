{
 "cells": [
  {
   "cell_type": "markdown",
   "id": "fcf007db-9a55-4414-a9c6-baa757b9006f",
   "metadata": {},
   "source": [
    "# SET & SET-Operation\n",
    "### 1).add()   1).union()|\n",
    "### 2).copy()   2).intersection()&\n",
    "### 3).clear()  3).difference()-\n",
    "### 4).remove()  4).symmetric_difference()^\n",
    "### 5).discard()\n",
    "### 6).pop()\n",
    "### 7).update()\n"
   ]
  },
  {
   "cell_type": "code",
   "execution_count": 2,
   "id": "5ce76387-a9fd-4c7b-9b87-43419710c9e0",
   "metadata": {},
   "outputs": [
    {
     "data": {
      "text/plain": [
       "{}"
      ]
     },
     "execution_count": 2,
     "metadata": {},
     "output_type": "execute_result"
    }
   ],
   "source": [
    "s={}#empty set#set start with curly bracket\n",
    "s"
   ]
  },
  {
   "cell_type": "code",
   "execution_count": 3,
   "id": "89e1bd30-f6c5-49af-b693-04668f9e6fb0",
   "metadata": {},
   "outputs": [
    {
     "data": {
      "text/plain": [
       "dict"
      ]
     },
     "execution_count": 3,
     "metadata": {},
     "output_type": "execute_result"
    }
   ],
   "source": [
    "type(s)"
   ]
  },
  {
   "cell_type": "code",
   "execution_count": 4,
   "id": "d218d7f3-5b0f-4795-ae36-3497e1dedb10",
   "metadata": {},
   "outputs": [
    {
     "data": {
      "text/plain": [
       "set"
      ]
     },
     "execution_count": 4,
     "metadata": {},
     "output_type": "execute_result"
    }
   ],
   "source": [
    "s1=set()#set Type\n",
    "type(s1)"
   ]
  },
  {
   "cell_type": "code",
   "execution_count": 5,
   "id": "6a3a76d8-6a07-4e09-acd1-34215ebe8203",
   "metadata": {},
   "outputs": [
    {
     "data": {
      "text/plain": [
       "set()"
      ]
     },
     "execution_count": 5,
     "metadata": {},
     "output_type": "execute_result"
    }
   ],
   "source": [
    "s1"
   ]
  },
  {
   "cell_type": "code",
   "execution_count": 6,
   "id": "0be8ef77-4ba3-43a1-a7da-22f6e20710f1",
   "metadata": {},
   "outputs": [
    {
     "data": {
      "text/plain": [
       "{4, 7, 20, 30, 59}"
      ]
     },
     "execution_count": 6,
     "metadata": {},
     "output_type": "execute_result"
    }
   ],
   "source": [
    "s2={20,30,4,7,59}#set always give output in ordered,if the elements are in same data typ\n",
    "s2"
   ]
  },
  {
   "cell_type": "code",
   "execution_count": 7,
   "id": "a6135a00-f7b2-4b17-b05e-058a401ed78a",
   "metadata": {},
   "outputs": [
    {
     "data": {
      "text/plain": [
       "{'a', 'd', 'f', 'g', 's'}"
      ]
     },
     "execution_count": 7,
     "metadata": {},
     "output_type": "execute_result"
    }
   ],
   "source": [
    "s3={'a','s','d','f','g'}\n",
    "s3"
   ]
  },
  {
   "cell_type": "code",
   "execution_count": 8,
   "id": "b13af9ac-c6d5-4ace-99e5-d7835ca5e701",
   "metadata": {},
   "outputs": [
    {
     "data": {
      "text/plain": [
       "{(4+3j), (5+9j), (7+8j), (8+6j)}"
      ]
     },
     "execution_count": 8,
     "metadata": {},
     "output_type": "execute_result"
    }
   ],
   "source": [
    "s4={5+9j,4+3j,8+6j,7+8j}#it judge the complex data type from its real number.\n",
    "s4"
   ]
  },
  {
   "cell_type": "code",
   "execution_count": 9,
   "id": "9b3c4f17-747f-4d9e-8023-7b825c29edce",
   "metadata": {},
   "outputs": [
    {
     "data": {
      "text/plain": [
       "{2.2, 3.4, 4.9, 5.6}"
      ]
     },
     "execution_count": 9,
     "metadata": {},
     "output_type": "execute_result"
    }
   ],
   "source": [
    "s5={2.2,2.2,3.4,5.6,4.9}#repeated elements are not allowed.\n",
    "s5"
   ]
  },
  {
   "cell_type": "code",
   "execution_count": 10,
   "id": "43dd3af7-f91e-479e-8eb3-30fdee2363cf",
   "metadata": {},
   "outputs": [
    {
     "data": {
      "text/plain": [
       "{False, True}"
      ]
     },
     "execution_count": 10,
     "metadata": {},
     "output_type": "execute_result"
    }
   ],
   "source": [
    "s6={True,False}\n",
    "s6"
   ]
  },
  {
   "cell_type": "code",
   "execution_count": 11,
   "id": "f7791069-7cbf-401f-87fa-73ebcac2f863",
   "metadata": {},
   "outputs": [
    {
     "data": {
      "text/plain": [
       "{(1+2j), 2, 2.3, True, 'sk'}"
      ]
     },
     "execution_count": 11,
     "metadata": {},
     "output_type": "execute_result"
    }
   ],
   "source": [
    "s7={2,2.3,\"sk\",1+2j,True}#in mix Data Type we can't consider,\n",
    "                         #the elements are ordered or not\n",
    "s7\n"
   ]
  },
  {
   "cell_type": "code",
   "execution_count": 12,
   "id": "d2f0dcc7-3f82-4302-9061-fbe5951bb1e6",
   "metadata": {},
   "outputs": [
    {
     "data": {
      "text/plain": [
       "{(1+2j), 2, 3.4, False, 'nit'}"
      ]
     },
     "execution_count": 12,
     "metadata": {},
     "output_type": "execute_result"
    }
   ],
   "source": [
    "s8 = {2, 3.4, 'nit', 1+2j, False}\n",
    "s8"
   ]
  },
  {
   "cell_type": "code",
   "execution_count": 18,
   "id": "58cd9042-7392-418e-a1f1-575c2c9cab95",
   "metadata": {},
   "outputs": [
    {
     "ename": "TypeError",
     "evalue": "unhashable type: 'list'",
     "output_type": "error",
     "traceback": [
      "\u001b[1;31m---------------------------------------------------------------------------\u001b[0m",
      "\u001b[1;31mTypeError\u001b[0m                                 Traceback (most recent call last)",
      "Cell \u001b[1;32mIn[18], line 1\u001b[0m\n\u001b[1;32m----> 1\u001b[0m s9\u001b[38;5;241m=\u001b[39m{\u001b[38;5;241m2\u001b[39m, \u001b[38;5;241m3.4\u001b[39m, \u001b[38;5;124m'\u001b[39m\u001b[38;5;124mnit\u001b[39m\u001b[38;5;124m'\u001b[39m, \u001b[38;5;241m1\u001b[39m\u001b[38;5;241m+\u001b[39m\u001b[38;5;241m2\u001b[39mj, \u001b[38;5;28;01mFalse\u001b[39;00m,[\u001b[38;5;241m2\u001b[39m\u001b[38;5;241m+\u001b[39m\u001b[38;5;241m3\u001b[39mj],(\u001b[38;5;241m23\u001b[39m,\u001b[38;5;241m45\u001b[39m)}\n\u001b[0;32m      2\u001b[0m                \u001b[38;5;66;03m#since list is mutable,and its not allowed in set.\u001b[39;00m\n\u001b[0;32m      3\u001b[0m s9\n",
      "\u001b[1;31mTypeError\u001b[0m: unhashable type: 'list'"
     ]
    }
   ],
   "source": [
    "s9={2, 3.4, 'nit', 1+2j, False,[2+3j],(23,45)}\n",
    "               #since list is mutable,and its not allowed in set.\n",
    "s9"
   ]
  },
  {
   "cell_type": "code",
   "execution_count": 20,
   "id": "a4a7dadd-1cf8-4044-95e9-393294ab03c7",
   "metadata": {},
   "outputs": [
    {
     "ename": "TypeError",
     "evalue": "unhashable type: 'list'",
     "output_type": "error",
     "traceback": [
      "\u001b[1;31m---------------------------------------------------------------------------\u001b[0m",
      "\u001b[1;31mTypeError\u001b[0m                                 Traceback (most recent call last)",
      "Cell \u001b[1;32mIn[20], line 1\u001b[0m\n\u001b[1;32m----> 1\u001b[0m s0\u001b[38;5;241m=\u001b[39m{[\u001b[38;5;241m2\u001b[39m,\u001b[38;5;241m3\u001b[39m,\u001b[38;5;241m4\u001b[39m],[\u001b[38;5;241m4\u001b[39m,\u001b[38;5;241m5\u001b[39m]}\n\u001b[0;32m      2\u001b[0m s0\n",
      "\u001b[1;31mTypeError\u001b[0m: unhashable type: 'list'"
     ]
    }
   ],
   "source": [
    "s0={[2,3,4],[4,5]}\n",
    "s0"
   ]
  },
  {
   "cell_type": "code",
   "execution_count": 22,
   "id": "6e4dc568-100c-41a5-a267-3c7a75a2afdd",
   "metadata": {},
   "outputs": [
    {
     "data": {
      "text/plain": [
       "{(1+2j), (2, 3), (23, 45), 2, 3.4, False, 'nit'}"
      ]
     },
     "execution_count": 22,
     "metadata": {},
     "output_type": "execute_result"
    }
   ],
   "source": [
    "s9={2, 3.4, 'nit', 1+2j, False,(2,3),(23,45)}#tuble is immutable and it's allowed in set\n",
    "s9"
   ]
  },
  {
   "cell_type": "code",
   "execution_count": 24,
   "id": "857325e2-fdba-442d-9a31-98724c4e4de4",
   "metadata": {},
   "outputs": [
    {
     "name": "stdout",
     "output_type": "stream",
     "text": [
      "{}\n",
      "set()\n",
      "{4, 20, 7, 59, 30}\n",
      "{'f', 'a', 's', 'd', 'g'}\n",
      "{(5+9j), (8+6j), (4+3j), (7+8j)}\n",
      "{2.2, 3.4, 4.9, 5.6}\n",
      "{False, True}\n",
      "{True, 2, 2.3, (1+2j), 'sk'}\n",
      "{False, 2, 3.4, (1+2j), 'nit'}\n",
      "{False, (2, 3), 2, 3.4, (1+2j), (23, 45), 'nit'}\n"
     ]
    },
    {
     "ename": "NameError",
     "evalue": "name 's0' is not defined",
     "output_type": "error",
     "traceback": [
      "\u001b[1;31m---------------------------------------------------------------------------\u001b[0m",
      "\u001b[1;31mNameError\u001b[0m                                 Traceback (most recent call last)",
      "Cell \u001b[1;32mIn[24], line 11\u001b[0m\n\u001b[0;32m      9\u001b[0m \u001b[38;5;28mprint\u001b[39m(s8)\n\u001b[0;32m     10\u001b[0m \u001b[38;5;28mprint\u001b[39m(s9)\n\u001b[1;32m---> 11\u001b[0m \u001b[38;5;28mprint\u001b[39m(s0)\n",
      "\u001b[1;31mNameError\u001b[0m: name 's0' is not defined"
     ]
    }
   ],
   "source": [
    "print(s)\n",
    "print(s1)\n",
    "print(s2)\n",
    "print(s3)\n",
    "print(s4)\n",
    "print(s5)\n",
    "print(s6)\n",
    "print(s7)\n",
    "print(s8)\n",
    "print(s9)\n",
    "print(s0)#not defiend cause list present as a element in s0 set."
   ]
  },
  {
   "cell_type": "code",
   "execution_count": 26,
   "id": "228a643e-dec3-4fef-a4c4-7d02ad09e41a",
   "metadata": {},
   "outputs": [
    {
     "data": {
      "text/plain": [
       "{(1+2j), 2, 3.4, False, 'nit'}"
      ]
     },
     "execution_count": 26,
     "metadata": {},
     "output_type": "execute_result"
    }
   ],
   "source": [
    "s8"
   ]
  },
  {
   "cell_type": "code",
   "execution_count": 28,
   "id": "840dfd99-60eb-4b6f-a98b-b6af8f70134d",
   "metadata": {},
   "outputs": [
    {
     "data": {
      "text/plain": [
       "{(1+2j), 2, 3.4, 30, False, 'nit'}"
      ]
     },
     "execution_count": 28,
     "metadata": {},
     "output_type": "execute_result"
    }
   ],
   "source": [
    "s8.add(30)\n",
    "s8"
   ]
  },
  {
   "cell_type": "code",
   "execution_count": 30,
   "id": "59ecab90-9642-4bc0-b300-0db0cf1bf59d",
   "metadata": {},
   "outputs": [
    {
     "data": {
      "text/plain": [
       "{(1+2j), (2, 3), (23, 45), 2, 3.4, 45, False, 'nit'}"
      ]
     },
     "execution_count": 30,
     "metadata": {},
     "output_type": "execute_result"
    }
   ],
   "source": [
    "s9.add(45)#it add the elments randomly\n",
    "s9"
   ]
  },
  {
   "cell_type": "code",
   "execution_count": 32,
   "id": "39cb6821-8ef1-49b7-8dcd-b56b49cac0cd",
   "metadata": {},
   "outputs": [
    {
     "ename": "TypeError",
     "evalue": "'set' object is not subscriptable",
     "output_type": "error",
     "traceback": [
      "\u001b[1;31m---------------------------------------------------------------------------\u001b[0m",
      "\u001b[1;31mTypeError\u001b[0m                                 Traceback (most recent call last)",
      "Cell \u001b[1;32mIn[32], line 1\u001b[0m\n\u001b[1;32m----> 1\u001b[0m s9[\u001b[38;5;241m0\u001b[39m]\n",
      "\u001b[1;31mTypeError\u001b[0m: 'set' object is not subscriptable"
     ]
    }
   ],
   "source": [
    "s9[0]#indexing is not allowed"
   ]
  },
  {
   "cell_type": "code",
   "execution_count": 34,
   "id": "f3a427ec-86ec-4620-8d44-498bbc941cc0",
   "metadata": {},
   "outputs": [
    {
     "ename": "TypeError",
     "evalue": "'set' object is not subscriptable",
     "output_type": "error",
     "traceback": [
      "\u001b[1;31m---------------------------------------------------------------------------\u001b[0m",
      "\u001b[1;31mTypeError\u001b[0m                                 Traceback (most recent call last)",
      "Cell \u001b[1;32mIn[34], line 1\u001b[0m\n\u001b[1;32m----> 1\u001b[0m s9[:]\n",
      "\u001b[1;31mTypeError\u001b[0m: 'set' object is not subscriptable"
     ]
    }
   ],
   "source": [
    "s9[:]#slicing is also not allowed"
   ]
  },
  {
   "cell_type": "code",
   "execution_count": 36,
   "id": "45f160d1-9bc5-4c21-bf13-8c5b2f30761b",
   "metadata": {},
   "outputs": [
    {
     "ename": "TypeError",
     "evalue": "'set' object is not subscriptable",
     "output_type": "error",
     "traceback": [
      "\u001b[1;31m---------------------------------------------------------------------------\u001b[0m",
      "\u001b[1;31mTypeError\u001b[0m                                 Traceback (most recent call last)",
      "Cell \u001b[1;32mIn[36], line 1\u001b[0m\n\u001b[1;32m----> 1\u001b[0m s9[\u001b[38;5;241m1\u001b[39m:\u001b[38;5;241m5\u001b[39m]\n",
      "\u001b[1;31mTypeError\u001b[0m: 'set' object is not subscriptable"
     ]
    }
   ],
   "source": [
    "s9[1:5]"
   ]
  },
  {
   "cell_type": "code",
   "execution_count": 38,
   "id": "d31837c5-ecd3-49f9-8870-74599853488e",
   "metadata": {},
   "outputs": [
    {
     "data": {
      "text/plain": [
       "{(1+2j), (2, 3), (23, 45), 2, 3.4, 45, False, 'nit'}"
      ]
     },
     "execution_count": 38,
     "metadata": {},
     "output_type": "execute_result"
    }
   ],
   "source": [
    "s9"
   ]
  },
  {
   "cell_type": "code",
   "execution_count": 44,
   "id": "04fec098-54d5-45db-adc3-66538717dba5",
   "metadata": {},
   "outputs": [
    {
     "data": {
      "text/plain": [
       "{'a', 'd', 'f', 'g', 's'}"
      ]
     },
     "execution_count": 44,
     "metadata": {},
     "output_type": "execute_result"
    }
   ],
   "source": [
    "s3"
   ]
  },
  {
   "cell_type": "code",
   "execution_count": 46,
   "id": "de7d0571-632d-4715-93b3-e8c7b967a023",
   "metadata": {},
   "outputs": [
    {
     "data": {
      "text/plain": [
       "{(4+3j), (5+9j), (7+8j), (8+6j)}"
      ]
     },
     "execution_count": 46,
     "metadata": {},
     "output_type": "execute_result"
    }
   ],
   "source": [
    "s4"
   ]
  },
  {
   "cell_type": "code",
   "execution_count": 48,
   "id": "cce96e05-69fe-446a-b80c-bf1224bf2fd4",
   "metadata": {},
   "outputs": [
    {
     "data": {
      "text/plain": [
       "{(4+3j), (5+9j), (7+8j), (8+6j)}"
      ]
     },
     "execution_count": 48,
     "metadata": {},
     "output_type": "execute_result"
    }
   ],
   "source": [
    "s3=s4.copy()#s3 copied the s4 elments and s3's before elments removed\n",
    "s3          #cause s3 now points to a copy of s4,s3 become a new set"
   ]
  },
  {
   "cell_type": "code",
   "execution_count": 50,
   "id": "769c93a1-cc05-40c1-aa9d-c01ad84dbb9d",
   "metadata": {},
   "outputs": [
    {
     "data": {
      "text/plain": [
       "{(4+3j), (5+9j), (7+8j), (8+6j)}"
      ]
     },
     "execution_count": 50,
     "metadata": {},
     "output_type": "execute_result"
    }
   ],
   "source": [
    "s3"
   ]
  },
  {
   "cell_type": "code",
   "execution_count": 54,
   "id": "44797aa9-e456-4139-92b0-9be90cf5a08f",
   "metadata": {},
   "outputs": [
    {
     "data": {
      "text/plain": [
       "{(4+3j), (5+9j), (7+8j), (8+6j)}"
      ]
     },
     "execution_count": 54,
     "metadata": {},
     "output_type": "execute_result"
    }
   ],
   "source": [
    "a1=s3.copy()\n",
    "a1"
   ]
  },
  {
   "cell_type": "code",
   "execution_count": 56,
   "id": "1fa73f30-f362-439d-9095-75ad31939d41",
   "metadata": {},
   "outputs": [
    {
     "data": {
      "text/plain": [
       "{(4+3j), (5+9j), (7+8j), (8+6j)}"
      ]
     },
     "execution_count": 56,
     "metadata": {},
     "output_type": "execute_result"
    }
   ],
   "source": [
    "a1"
   ]
  },
  {
   "cell_type": "code",
   "execution_count": 9,
   "id": "a8e52340-6af0-46b3-85f9-93625ad72a37",
   "metadata": {},
   "outputs": [
    {
     "data": {
      "text/plain": [
       "{(2+2j), 23, 3.4}"
      ]
     },
     "execution_count": 9,
     "metadata": {},
     "output_type": "execute_result"
    }
   ],
   "source": [
    "e1={23,3.4,1+2j+True}\n",
    "e1"
   ]
  },
  {
   "cell_type": "code",
   "execution_count": 11,
   "id": "93d05208-809a-4903-bdf5-1eb38485dbeb",
   "metadata": {},
   "outputs": [],
   "source": [
    "e1.clear()"
   ]
  },
  {
   "cell_type": "code",
   "execution_count": 13,
   "id": "c01f1847-a836-4908-b27e-cb9fca36ef3b",
   "metadata": {},
   "outputs": [
    {
     "data": {
      "text/plain": [
       "set()"
      ]
     },
     "execution_count": 13,
     "metadata": {},
     "output_type": "execute_result"
    }
   ],
   "source": [
    "e1"
   ]
  },
  {
   "cell_type": "code",
   "execution_count": 17,
   "id": "2d220441-ae39-46c4-9052-41adbaede40c",
   "metadata": {},
   "outputs": [
    {
     "data": {
      "text/plain": [
       "{(3+4j), 3.3, 33, False, 'SK'}"
      ]
     },
     "execution_count": 17,
     "metadata": {},
     "output_type": "execute_result"
    }
   ],
   "source": [
    "e2={33,3.3,3+4j,False,\"SK\"}\n",
    "e2"
   ]
  },
  {
   "cell_type": "code",
   "execution_count": 66,
   "id": "481fd09f-660d-4f82-bfed-9b17cee2fed2",
   "metadata": {},
   "outputs": [
    {
     "data": {
      "text/plain": [
       "{(3+4j), 4.3, 43, False, 'SK'}"
      ]
     },
     "execution_count": 66,
     "metadata": {},
     "output_type": "execute_result"
    }
   ],
   "source": [
    "e3={43,4.3,3+4j,False,\"SK\"}\n",
    "e3"
   ]
  },
  {
   "cell_type": "code",
   "execution_count": 68,
   "id": "57a766cd-d55f-4918-99ea-60df6af12e7f",
   "metadata": {},
   "outputs": [
    {
     "data": {
      "text/plain": [
       "{(3+4j), 4.3, False, 'SK'}"
      ]
     },
     "execution_count": 68,
     "metadata": {},
     "output_type": "execute_result"
    }
   ],
   "source": [
    "e3.remove(43)\n",
    "e3"
   ]
  },
  {
   "cell_type": "code",
   "execution_count": 70,
   "id": "4f4e94b4-d530-4cd2-a2ea-eff0f1be7465",
   "metadata": {},
   "outputs": [
    {
     "data": {
      "text/plain": [
       "{(3+4j), False, 'SK'}"
      ]
     },
     "execution_count": 70,
     "metadata": {},
     "output_type": "execute_result"
    }
   ],
   "source": [
    "e3.remove(4.3)\n",
    "e3"
   ]
  },
  {
   "cell_type": "code",
   "execution_count": 72,
   "id": "064b28a4-9230-424d-949c-b6d6bd1587ba",
   "metadata": {},
   "outputs": [
    {
     "data": {
      "text/plain": [
       "{(3+4j), 'SK'}"
      ]
     },
     "execution_count": 72,
     "metadata": {},
     "output_type": "execute_result"
    }
   ],
   "source": [
    "e3.remove(False)\n",
    "e3"
   ]
  },
  {
   "cell_type": "code",
   "execution_count": 81,
   "id": "70fc1246-cdc0-490a-9a30-5100fd79a7d3",
   "metadata": {},
   "outputs": [],
   "source": [
    "e3.remove('SK')"
   ]
  },
  {
   "cell_type": "code",
   "execution_count": 83,
   "id": "ddd537e6-e3b1-496d-a335-45b355789ea8",
   "metadata": {},
   "outputs": [
    {
     "data": {
      "text/plain": [
       "{(3+4j)}"
      ]
     },
     "execution_count": 83,
     "metadata": {},
     "output_type": "execute_result"
    }
   ],
   "source": [
    "e3"
   ]
  },
  {
   "cell_type": "code",
   "execution_count": 87,
   "id": "3c154c8e-88b4-4381-af2a-bb9e77d6e4cf",
   "metadata": {},
   "outputs": [],
   "source": [
    "d1={'a','b','c','d','e','f'}"
   ]
  },
  {
   "cell_type": "code",
   "execution_count": 91,
   "id": "dcb085b0-aa77-4c2e-a1ac-ff2bbf2e33c6",
   "metadata": {},
   "outputs": [],
   "source": [
    "d1.discard('a')"
   ]
  },
  {
   "cell_type": "code",
   "execution_count": 94,
   "id": "a12285b1-9ae4-4b46-9070-95977de3b236",
   "metadata": {},
   "outputs": [
    {
     "data": {
      "text/plain": [
       "{'b', 'c', 'd', 'e', 'f'}"
      ]
     },
     "execution_count": 94,
     "metadata": {},
     "output_type": "execute_result"
    }
   ],
   "source": [
    "d1"
   ]
  },
  {
   "cell_type": "code",
   "execution_count": 96,
   "id": "47db02f8-4cef-4c52-9673-c907e26ebcd9",
   "metadata": {},
   "outputs": [
    {
     "data": {
      "text/plain": [
       "{'b', 'c', 'd', 'e', 'f'}"
      ]
     },
     "execution_count": 96,
     "metadata": {},
     "output_type": "execute_result"
    }
   ],
   "source": [
    "d1.discard('z')#discard never give error,however the element is not present inn set\n",
    "d1"
   ]
  },
  {
   "cell_type": "code",
   "execution_count": 98,
   "id": "29a44497-5cdd-4ab0-851d-3e604eb552f7",
   "metadata": {},
   "outputs": [
    {
     "ename": "KeyError",
     "evalue": "'z'",
     "output_type": "error",
     "traceback": [
      "\u001b[1;31m---------------------------------------------------------------------------\u001b[0m",
      "\u001b[1;31mKeyError\u001b[0m                                  Traceback (most recent call last)",
      "Cell \u001b[1;32mIn[98], line 1\u001b[0m\n\u001b[1;32m----> 1\u001b[0m d1\u001b[38;5;241m.\u001b[39mremove(\u001b[38;5;124m'\u001b[39m\u001b[38;5;124mz\u001b[39m\u001b[38;5;124m'\u001b[39m)\n\u001b[0;32m      2\u001b[0m d1\n",
      "\u001b[1;31mKeyError\u001b[0m: 'z'"
     ]
    }
   ],
   "source": [
    "d1.remove('z')#but remove give error,if the elemnt is not present in the set\n",
    "d1"
   ]
  },
  {
   "cell_type": "code",
   "execution_count": 100,
   "id": "803baf0f-f4c9-4036-b14e-739650696b4d",
   "metadata": {},
   "outputs": [
    {
     "data": {
      "text/plain": [
       "'c'"
      ]
     },
     "execution_count": 100,
     "metadata": {},
     "output_type": "execute_result"
    }
   ],
   "source": [
    "d1.pop()#.pop() randomly remove any elemen, if you not give the element"
   ]
  },
  {
   "cell_type": "code",
   "execution_count": 102,
   "id": "62967edf-594c-4cbb-a359-2b109eee9cd8",
   "metadata": {},
   "outputs": [
    {
     "data": {
      "text/plain": [
       "{'b', 'd', 'e', 'f'}"
      ]
     },
     "execution_count": 102,
     "metadata": {},
     "output_type": "execute_result"
    }
   ],
   "source": [
    "d1"
   ]
  },
  {
   "cell_type": "code",
   "execution_count": 108,
   "id": "f1eb45a3-3369-4c64-bc86-12d49e8446bf",
   "metadata": {},
   "outputs": [
    {
     "ename": "TypeError",
     "evalue": "set.pop() takes no arguments (1 given)",
     "output_type": "error",
     "traceback": [
      "\u001b[1;31m---------------------------------------------------------------------------\u001b[0m",
      "\u001b[1;31mTypeError\u001b[0m                                 Traceback (most recent call last)",
      "Cell \u001b[1;32mIn[108], line 1\u001b[0m\n\u001b[1;32m----> 1\u001b[0m d1\u001b[38;5;241m.\u001b[39mpop(\u001b[38;5;124m'\u001b[39m\u001b[38;5;124me\u001b[39m\u001b[38;5;124m'\u001b[39m)\n",
      "\u001b[1;31mTypeError\u001b[0m: set.pop() takes no arguments (1 given)"
     ]
    }
   ],
   "source": [
    "d1.pop(3)#since indexing is not allowed in set"
   ]
  },
  {
   "cell_type": "code",
   "execution_count": 112,
   "id": "0fd7db4f-e1bb-401f-84ce-4b802d39f2ec",
   "metadata": {},
   "outputs": [
    {
     "name": "stdout",
     "output_type": "stream",
     "text": [
      "e\n",
      "b\n",
      "d\n",
      "f\n"
     ]
    }
   ],
   "source": [
    "for i in d1:\n",
    "    print(i)"
   ]
  },
  {
   "cell_type": "code",
   "execution_count": 116,
   "id": "e54f3dd1-6a3a-4ab8-b072-106a8445f366",
   "metadata": {},
   "outputs": [
    {
     "name": "stdout",
     "output_type": "stream",
     "text": [
      "(0, 'e')\n",
      "(1, 'b')\n",
      "(2, 'd')\n",
      "(3, 'f')\n"
     ]
    }
   ],
   "source": [
    "for i in enumerate(d1):\n",
    "    print(i)"
   ]
  },
  {
   "cell_type": "code",
   "execution_count": 118,
   "id": "6a2c47b2-2f47-41f6-b40a-8a467a98ef69",
   "metadata": {},
   "outputs": [
    {
     "data": {
      "text/plain": [
       "False"
      ]
     },
     "execution_count": 118,
     "metadata": {},
     "output_type": "execute_result"
    }
   ],
   "source": [
    "'k' in d1"
   ]
  },
  {
   "cell_type": "code",
   "execution_count": 120,
   "id": "73e7b8ea-b964-4b4b-b7d0-ff4b7392db46",
   "metadata": {},
   "outputs": [
    {
     "data": {
      "text/plain": [
       "True"
      ]
     },
     "execution_count": 120,
     "metadata": {},
     "output_type": "execute_result"
    }
   ],
   "source": [
    "'e' in d1"
   ]
  },
  {
   "cell_type": "code",
   "execution_count": 122,
   "id": "e22ceaca-e617-485b-bec0-b08093a3b34b",
   "metadata": {},
   "outputs": [
    {
     "data": {
      "text/plain": [
       "{'b', 'd', 'e', 'f'}"
      ]
     },
     "execution_count": 122,
     "metadata": {},
     "output_type": "execute_result"
    }
   ],
   "source": [
    "d1"
   ]
  },
  {
   "cell_type": "code",
   "execution_count": 128,
   "id": "3311b690-d2f2-49be-83a1-25e0e8047448",
   "metadata": {},
   "outputs": [],
   "source": [
    "d1.update(e3)"
   ]
  },
  {
   "cell_type": "code",
   "execution_count": 132,
   "id": "2070fed1-ed30-4eca-9267-49bdd1bb1878",
   "metadata": {},
   "outputs": [
    {
     "data": {
      "text/plain": [
       "{(3+4j)}"
      ]
     },
     "execution_count": 132,
     "metadata": {},
     "output_type": "execute_result"
    }
   ],
   "source": [
    "e3"
   ]
  },
  {
   "cell_type": "code",
   "execution_count": 134,
   "id": "430bc62d-0e99-4c16-a164-b4970e8806e0",
   "metadata": {},
   "outputs": [
    {
     "data": {
      "text/plain": [
       "{(4+6j), 20, 30, 40, False}"
      ]
     },
     "execution_count": 134,
     "metadata": {},
     "output_type": "execute_result"
    }
   ],
   "source": [
    "d2={20,30,40,False,4+6j}\n",
    "d2"
   ]
  },
  {
   "cell_type": "code",
   "execution_count": 136,
   "id": "08ecf7d0-8ae4-4f83-9f9c-3d2808f18da6",
   "metadata": {},
   "outputs": [
    {
     "data": {
      "text/plain": [
       "{(3+4j), 'b', 'd', 'e', 'f'}"
      ]
     },
     "execution_count": 136,
     "metadata": {},
     "output_type": "execute_result"
    }
   ],
   "source": [
    "d1"
   ]
  },
  {
   "cell_type": "code",
   "execution_count": 138,
   "id": "e7eb8664-d170-4e32-a271-7de732814d2a",
   "metadata": {},
   "outputs": [
    {
     "data": {
      "text/plain": [
       "{(3+4j), (4+6j), 20, 30, 40, False, 'b', 'd', 'e', 'f'}"
      ]
     },
     "execution_count": 138,
     "metadata": {},
     "output_type": "execute_result"
    }
   ],
   "source": [
    "d2.update(d1)#d1 elements come first than d2\n",
    "d2"
   ]
  },
  {
   "cell_type": "markdown",
   "id": "d7cf36cc-5d6a-48e9-bd25-1e8e57fb4d74",
   "metadata": {},
   "source": [
    "# SET OPERATION"
   ]
  },
  {
   "cell_type": "code",
   "execution_count": 147,
   "id": "f8139139-660e-486a-9e0a-5d7e2230fdf0",
   "metadata": {},
   "outputs": [],
   "source": [
    "v1={2,2.3,True,3+4j,\"sk\"}\n",
    "v2={3,3.4,False,4+5J,\"AK\"}\n",
    "v3={36,7.8,45,78}"
   ]
  },
  {
   "cell_type": "code",
   "execution_count": 149,
   "id": "62e78b92-0d12-40c9-b304-3ad871556f12",
   "metadata": {},
   "outputs": [
    {
     "data": {
      "text/plain": [
       "{(3+4j), (4+5j), 2, 2.3, 3, 3.4, 'AK', False, True, 'sk'}"
      ]
     },
     "execution_count": 149,
     "metadata": {},
     "output_type": "execute_result"
    }
   ],
   "source": [
    "v1.union(v2)"
   ]
  },
  {
   "cell_type": "code",
   "execution_count": 151,
   "id": "047433f0-d562-4f31-a1b8-381dfad32a19",
   "metadata": {},
   "outputs": [
    {
     "data": {
      "text/plain": [
       "{(3+4j), (4+5j), 2, 2.3, 3, 3.4, 'AK', False, True, 'sk'}"
      ]
     },
     "execution_count": 151,
     "metadata": {},
     "output_type": "execute_result"
    }
   ],
   "source": [
    "v1.union(v2)"
   ]
  },
  {
   "cell_type": "code",
   "execution_count": 153,
   "id": "92169ac5-9b44-4e70-b484-315650780102",
   "metadata": {},
   "outputs": [
    {
     "data": {
      "text/plain": [
       "{(4+5j), 3, 3.4, 36, 45, 7.8, 78, 'AK', False}"
      ]
     },
     "execution_count": 153,
     "metadata": {},
     "output_type": "execute_result"
    }
   ],
   "source": [
    "v3.union(v2)"
   ]
  },
  {
   "cell_type": "code",
   "execution_count": 155,
   "id": "5107051a-f12d-4c14-8233-2111970a0412",
   "metadata": {},
   "outputs": [
    {
     "data": {
      "text/plain": [
       "{(3+4j), (4+5j), 2, 2.3, 3, 3.4, 'AK', False, True, 'sk'}"
      ]
     },
     "execution_count": 155,
     "metadata": {},
     "output_type": "execute_result"
    }
   ],
   "source": [
    "v1|v2#symbol of union"
   ]
  },
  {
   "cell_type": "code",
   "execution_count": 157,
   "id": "5d153981-b2c6-451e-bd3e-119b319cb0a1",
   "metadata": {},
   "outputs": [
    {
     "data": {
      "text/plain": [
       "{(3+4j), (4+5j), 2, 2.3, 3, 3.4, 36, 45, 7.8, 78, 'AK', False, True, 'sk'}"
      ]
     },
     "execution_count": 157,
     "metadata": {},
     "output_type": "execute_result"
    }
   ],
   "source": [
    "v1|v2|v3"
   ]
  },
  {
   "cell_type": "code",
   "execution_count": 159,
   "id": "67f94cf0-3117-4db4-a588-f29aaa71a229",
   "metadata": {},
   "outputs": [
    {
     "name": "stdout",
     "output_type": "stream",
     "text": [
      "{True, 2, 2.3, 'sk', (3+4j)}\n",
      "{False, 'AK', 3, 3.4, (4+5j)}\n",
      "{36, 45, 78, 7.8}\n"
     ]
    }
   ],
   "source": [
    "print(v1)\n",
    "print(v2)\n",
    "print(v3)"
   ]
  },
  {
   "cell_type": "code",
   "execution_count": 161,
   "id": "65e49e4d-7b92-4f97-afdb-ccefbd395757",
   "metadata": {},
   "outputs": [
    {
     "data": {
      "text/plain": [
       "set()"
      ]
     },
     "execution_count": 161,
     "metadata": {},
     "output_type": "execute_result"
    }
   ],
   "source": [
    "v1.intersection(v2)"
   ]
  },
  {
   "cell_type": "code",
   "execution_count": 167,
   "id": "8128ae73-26c9-4718-947d-b363f02a9dd4",
   "metadata": {},
   "outputs": [
    {
     "data": {
      "text/plain": [
       "{3, 4, 5, 6, 7}"
      ]
     },
     "execution_count": 167,
     "metadata": {},
     "output_type": "execute_result"
    }
   ],
   "source": [
    "r1={3,4,5,6,7}\n",
    "r1"
   ]
  },
  {
   "cell_type": "code",
   "execution_count": 171,
   "id": "2702729b-b6c5-4b01-af90-c18787d35625",
   "metadata": {},
   "outputs": [
    {
     "data": {
      "text/plain": [
       "{1, 2, 3, 4, 5, 6}"
      ]
     },
     "execution_count": 171,
     "metadata": {},
     "output_type": "execute_result"
    }
   ],
   "source": [
    "r2={3,4,5,6,1,2}\n",
    "r2"
   ]
  },
  {
   "cell_type": "code",
   "execution_count": 173,
   "id": "c4ac9beb-31fc-409d-8f1c-89625db86ec4",
   "metadata": {},
   "outputs": [
    {
     "data": {
      "text/plain": [
       "{3, 4, 5, 6}"
      ]
     },
     "execution_count": 173,
     "metadata": {},
     "output_type": "execute_result"
    }
   ],
   "source": [
    "r1.intersection(r2)#take the common elemnts between two sets"
   ]
  },
  {
   "cell_type": "code",
   "execution_count": 175,
   "id": "abf165cb-41f8-4468-874e-57dee5127cb3",
   "metadata": {},
   "outputs": [
    {
     "data": {
      "text/plain": [
       "{(3+4j), 'b', 'd', 'e', 'f'}"
      ]
     },
     "execution_count": 175,
     "metadata": {},
     "output_type": "execute_result"
    }
   ],
   "source": [
    "d1&d2#symbbol of .intersection()"
   ]
  },
  {
   "cell_type": "code",
   "execution_count": 177,
   "id": "a95775e2-0605-4dce-a6ac-098fb748e4ba",
   "metadata": {},
   "outputs": [
    {
     "data": {
      "text/plain": [
       "set()"
      ]
     },
     "execution_count": 177,
     "metadata": {},
     "output_type": "execute_result"
    }
   ],
   "source": [
    "v1&v2"
   ]
  },
  {
   "cell_type": "code",
   "execution_count": 179,
   "id": "db5774e9-3742-46f8-af28-e38f47fa6675",
   "metadata": {},
   "outputs": [
    {
     "data": {
      "text/plain": [
       "{3, 4, 5, 6}"
      ]
     },
     "execution_count": 179,
     "metadata": {},
     "output_type": "execute_result"
    }
   ],
   "source": [
    "r1&r2"
   ]
  },
  {
   "cell_type": "code",
   "execution_count": 183,
   "id": "b4ab5747-3e71-435a-813a-72a4106c5874",
   "metadata": {},
   "outputs": [
    {
     "data": {
      "text/plain": [
       "{3, 4, 5, 6, 7}"
      ]
     },
     "execution_count": 183,
     "metadata": {},
     "output_type": "execute_result"
    }
   ],
   "source": [
    "r1"
   ]
  },
  {
   "cell_type": "code",
   "execution_count": 185,
   "id": "8f897f95-c3fd-4598-be84-e33b00c6b97b",
   "metadata": {},
   "outputs": [
    {
     "data": {
      "text/plain": [
       "{1, 2, 3, 4, 5, 6}"
      ]
     },
     "execution_count": 185,
     "metadata": {},
     "output_type": "execute_result"
    }
   ],
   "source": [
    "r2"
   ]
  },
  {
   "cell_type": "code",
   "execution_count": 191,
   "id": "3e28c7b7-5433-43e3-88ce-9a1774d72b75",
   "metadata": {},
   "outputs": [
    {
     "data": {
      "text/plain": [
       "{7}"
      ]
     },
     "execution_count": 191,
     "metadata": {},
     "output_type": "execute_result"
    }
   ],
   "source": [
    "r1.difference(r2)"
   ]
  },
  {
   "cell_type": "code",
   "execution_count": 193,
   "id": "9c1b520e-f569-41b1-a656-8a52306d2e1d",
   "metadata": {},
   "outputs": [
    {
     "data": {
      "text/plain": [
       "{1, 2}"
      ]
     },
     "execution_count": 193,
     "metadata": {},
     "output_type": "execute_result"
    }
   ],
   "source": [
    "r2.difference(r1)"
   ]
  },
  {
   "cell_type": "code",
   "execution_count": 195,
   "id": "1f8a224f-3004-4ecf-9e6f-1aa0e4f9d461",
   "metadata": {},
   "outputs": [
    {
     "data": {
      "text/plain": [
       "{7}"
      ]
     },
     "execution_count": 195,
     "metadata": {},
     "output_type": "execute_result"
    }
   ],
   "source": [
    "r1-r2#symbol of difference"
   ]
  },
  {
   "cell_type": "code",
   "execution_count": 197,
   "id": "566bad99-0df5-4c13-8324-53d30c614f39",
   "metadata": {},
   "outputs": [
    {
     "data": {
      "text/plain": [
       "{1, 2}"
      ]
     },
     "execution_count": 197,
     "metadata": {},
     "output_type": "execute_result"
    }
   ],
   "source": [
    "r2-r1"
   ]
  },
  {
   "cell_type": "code",
   "execution_count": 199,
   "id": "1a771b64-095d-4fe8-8dbb-0360f6cd8eb6",
   "metadata": {},
   "outputs": [
    {
     "name": "stdout",
     "output_type": "stream",
     "text": [
      "{'e', 'b', 'd', 'f', (3+4j)}\n",
      "{False, 40, (3+4j), 'e', 20, (4+6j), 'b', 'd', 'f', 30}\n",
      "{True, 2, 2.3, 'sk', (3+4j)}\n",
      "{False, 'AK', 3, 3.4, (4+5j)}\n",
      "{3, 4, 5, 6, 7}\n",
      "{1, 2, 3, 4, 5, 6}\n"
     ]
    }
   ],
   "source": [
    "print(d1)\n",
    "print(d2)\n",
    "print(v1)\n",
    "print(v2)\n",
    "print(r1)\n",
    "print(r2)"
   ]
  },
  {
   "cell_type": "code",
   "execution_count": 201,
   "id": "0da47464-2ab6-4a64-87d1-4abd7893019f",
   "metadata": {},
   "outputs": [
    {
     "data": {
      "text/plain": [
       "{1, 2, 7}"
      ]
     },
     "execution_count": 201,
     "metadata": {},
     "output_type": "execute_result"
    }
   ],
   "source": [
    "r1.symmetric_difference(r2)#it take uncommon elemnts from both"
   ]
  },
  {
   "cell_type": "code",
   "execution_count": 203,
   "id": "a18f475b-3ff9-4f6e-b778-01c4154319d0",
   "metadata": {},
   "outputs": [
    {
     "data": {
      "text/plain": [
       "{3, 5, 20, 49, 60}"
      ]
     },
     "execution_count": 203,
     "metadata": {},
     "output_type": "execute_result"
    }
   ],
   "source": [
    "r10={20,3,5,60,49}\n",
    "r10"
   ]
  },
  {
   "cell_type": "code",
   "execution_count": 205,
   "id": "ddc85bb8-cb88-44da-8600-ccd17f6c195b",
   "metadata": {},
   "outputs": [
    {
     "name": "stdout",
     "output_type": "stream",
     "text": [
      "{49, 3, 20, 5, 60}\n"
     ]
    }
   ],
   "source": [
    "print(r10)"
   ]
  },
  {
   "cell_type": "code",
   "execution_count": null,
   "id": "3d278c09-f400-4c17-bd7b-e058948fa079",
   "metadata": {},
   "outputs": [],
   "source": []
  }
 ],
 "metadata": {
  "kernelspec": {
   "display_name": "Python [conda env:base] *",
   "language": "python",
   "name": "conda-base-py"
  },
  "language_info": {
   "codemirror_mode": {
    "name": "ipython",
    "version": 3
   },
   "file_extension": ".py",
   "mimetype": "text/x-python",
   "name": "python",
   "nbconvert_exporter": "python",
   "pygments_lexer": "ipython3",
   "version": "3.12.7"
  }
 },
 "nbformat": 4,
 "nbformat_minor": 5
}
